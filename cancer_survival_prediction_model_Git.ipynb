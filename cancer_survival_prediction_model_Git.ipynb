{
 "cells": [
  {
   "cell_type": "markdown",
   "metadata": {
    "id": "8C4yMXx0Mh66"
   },
   "source": [
    "# Cancer Survival Prediction\n",
    "\n",
    "Given radiomics features with clinical data, predict patient survival at 3 years.\n",
    "\n",
    "There are 852 columns.\n",
    "\n",
    "1. Patient id\n",
    "2. Gender\n",
    "3. Age\n",
    "4. Anonymous clinical data (clinical A to D)\n",
    "5. Time to event\n",
    "6. Patient Status\n",
    "7. Radiomics features(v1-v842)\n",
    "8. Target variable: Patient Status at 3 years"
   ]
  },
  {
   "cell_type": "markdown",
   "metadata": {
    "id": "4TfXXizKMh67"
   },
   "source": [
    "# Import Libraries and file"
   ]
  },
  {
   "cell_type": "code",
   "execution_count": 2,
   "metadata": {
    "id": "-XP3tr3hMh68"
   },
   "outputs": [],
   "source": [
    "import pandas as pd\n",
    "import numpy as np\n",
    "import matplotlib.pyplot as plt\n",
    "import seaborn as sns\n",
    "\n",
    "%matplotlib inline"
   ]
  },
  {
   "cell_type": "code",
   "execution_count": 3,
   "metadata": {
    "id": "6GYN62XmMh6_"
   },
   "outputs": [],
   "source": [
    "data = pd.read_csv('CancerRadiomicsKaggle_v2_050620.csv')"
   ]
  },
  {
   "cell_type": "markdown",
   "metadata": {
    "id": "In9hh8uiMh7C"
   },
   "source": [
    "# Data Exploration"
   ]
  },
  {
   "cell_type": "code",
   "execution_count": 4,
   "metadata": {
    "colab": {
     "base_uri": "https://localhost:8080/",
     "height": 303
    },
    "id": "mzLAUaaVMh7C",
    "outputId": "74c81582-19d1-43b2-b112-75a96e457365",
    "scrolled": false
   },
   "outputs": [
    {
     "data": {
      "text/html": [
       "<div>\n",
       "<style scoped>\n",
       "    .dataframe tbody tr th:only-of-type {\n",
       "        vertical-align: middle;\n",
       "    }\n",
       "\n",
       "    .dataframe tbody tr th {\n",
       "        vertical-align: top;\n",
       "    }\n",
       "\n",
       "    .dataframe thead th {\n",
       "        text-align: right;\n",
       "    }\n",
       "</style>\n",
       "<table border=\"1\" class=\"dataframe\">\n",
       "  <thead>\n",
       "    <tr style=\"text-align: right;\">\n",
       "      <th></th>\n",
       "      <th>Patient ID</th>\n",
       "      <th>Gender</th>\n",
       "      <th>Age</th>\n",
       "      <th>Clinical A</th>\n",
       "      <th>Clinical B</th>\n",
       "      <th>Clinical C</th>\n",
       "      <th>Clinical D</th>\n",
       "      <th>Time to Event</th>\n",
       "      <th>Patient Status</th>\n",
       "      <th>Patient Status at 3 Year</th>\n",
       "      <th>v1</th>\n",
       "      <th>v2</th>\n",
       "      <th>v3</th>\n",
       "      <th>v4</th>\n",
       "      <th>v5</th>\n",
       "      <th>v6</th>\n",
       "      <th>v7</th>\n",
       "      <th>v8</th>\n",
       "      <th>v9</th>\n",
       "      <th>v10</th>\n",
       "      <th>v11</th>\n",
       "      <th>v12</th>\n",
       "      <th>v13</th>\n",
       "      <th>v14</th>\n",
       "      <th>v15</th>\n",
       "      <th>v16</th>\n",
       "      <th>v17</th>\n",
       "      <th>v18</th>\n",
       "      <th>v19</th>\n",
       "      <th>v20</th>\n",
       "      <th>v21</th>\n",
       "      <th>v22</th>\n",
       "      <th>v23</th>\n",
       "      <th>v24</th>\n",
       "      <th>v25</th>\n",
       "      <th>v26</th>\n",
       "      <th>v27</th>\n",
       "      <th>v28</th>\n",
       "      <th>v29</th>\n",
       "      <th>v30</th>\n",
       "      <th>...</th>\n",
       "      <th>v803</th>\n",
       "      <th>v804</th>\n",
       "      <th>v805</th>\n",
       "      <th>v806</th>\n",
       "      <th>v807</th>\n",
       "      <th>v808</th>\n",
       "      <th>v809</th>\n",
       "      <th>v810</th>\n",
       "      <th>v811</th>\n",
       "      <th>v812</th>\n",
       "      <th>v813</th>\n",
       "      <th>v814</th>\n",
       "      <th>v815</th>\n",
       "      <th>v816</th>\n",
       "      <th>v817</th>\n",
       "      <th>v818</th>\n",
       "      <th>v819</th>\n",
       "      <th>v820</th>\n",
       "      <th>v821</th>\n",
       "      <th>v822</th>\n",
       "      <th>v823</th>\n",
       "      <th>v824</th>\n",
       "      <th>v825</th>\n",
       "      <th>v826</th>\n",
       "      <th>v827</th>\n",
       "      <th>v828</th>\n",
       "      <th>v829</th>\n",
       "      <th>v830</th>\n",
       "      <th>v831</th>\n",
       "      <th>v832</th>\n",
       "      <th>v833</th>\n",
       "      <th>v834</th>\n",
       "      <th>v835</th>\n",
       "      <th>v836</th>\n",
       "      <th>v837</th>\n",
       "      <th>v838</th>\n",
       "      <th>v839</th>\n",
       "      <th>v840</th>\n",
       "      <th>v841</th>\n",
       "      <th>v842</th>\n",
       "    </tr>\n",
       "  </thead>\n",
       "  <tbody>\n",
       "    <tr>\n",
       "      <th>0</th>\n",
       "      <td>1</td>\n",
       "      <td>1</td>\n",
       "      <td>51</td>\n",
       "      <td>1</td>\n",
       "      <td>0</td>\n",
       "      <td>1</td>\n",
       "      <td>0</td>\n",
       "      <td>993</td>\n",
       "      <td>0</td>\n",
       "      <td>-1</td>\n",
       "      <td>2376.00</td>\n",
       "      <td>44.070965</td>\n",
       "      <td>2321.90625</td>\n",
       "      <td>47.047567</td>\n",
       "      <td>0.471206</td>\n",
       "      <td>5.829121</td>\n",
       "      <td>0.362637</td>\n",
       "      <td>0.775042</td>\n",
       "      <td>44.070965</td>\n",
       "      <td>0.123898</td>\n",
       "      <td>1799.574040</td>\n",
       "      <td>17.061189</td>\n",
       "      <td>44.000000</td>\n",
       "      <td>17.088007</td>\n",
       "      <td>23.648445</td>\n",
       "      <td>560.543814</td>\n",
       "      <td>3.972923</td>\n",
       "      <td>-106.121904</td>\n",
       "      <td>0.334698</td>\n",
       "      <td>0.995966</td>\n",
       "      <td>0.152574</td>\n",
       "      <td>5.279167</td>\n",
       "      <td>1.921166</td>\n",
       "      <td>0.376804</td>\n",
       "      <td>3.843143</td>\n",
       "      <td>0.971420</td>\n",
       "      <td>0.665239</td>\n",
       "      <td>0.337986</td>\n",
       "      <td>47.296891</td>\n",
       "      <td>2.929498</td>\n",
       "      <td>...</td>\n",
       "      <td>-91.169469</td>\n",
       "      <td>8.839778</td>\n",
       "      <td>128.219197</td>\n",
       "      <td>0.000716</td>\n",
       "      <td>71.546083</td>\n",
       "      <td>0.000749</td>\n",
       "      <td>0.068509</td>\n",
       "      <td>0.496877</td>\n",
       "      <td>187.353614</td>\n",
       "      <td>2.052828</td>\n",
       "      <td>2889.263673</td>\n",
       "      <td>2162.156294</td>\n",
       "      <td>0.894000</td>\n",
       "      <td>6737.718172</td>\n",
       "      <td>0.847999</td>\n",
       "      <td>0.001073</td>\n",
       "      <td>5.175846</td>\n",
       "      <td>3240.511014</td>\n",
       "      <td>0.777202</td>\n",
       "      <td>148.055805</td>\n",
       "      <td>290.942086</td>\n",
       "      <td>0.026557</td>\n",
       "      <td>0.417394</td>\n",
       "      <td>316.802371</td>\n",
       "      <td>20.156785</td>\n",
       "      <td>308.363636</td>\n",
       "      <td>1761.811230</td>\n",
       "      <td>0.239583</td>\n",
       "      <td>0.097143</td>\n",
       "      <td>9.989379e+05</td>\n",
       "      <td>2863.166008</td>\n",
       "      <td>0.671965</td>\n",
       "      <td>0.001812</td>\n",
       "      <td>7.082423</td>\n",
       "      <td>0.001697</td>\n",
       "      <td>0.002704</td>\n",
       "      <td>5599.760835</td>\n",
       "      <td>8.102155</td>\n",
       "      <td>0.081455</td>\n",
       "      <td>0.065024</td>\n",
       "    </tr>\n",
       "    <tr>\n",
       "      <th>1</th>\n",
       "      <td>2</td>\n",
       "      <td>1</td>\n",
       "      <td>52</td>\n",
       "      <td>2</td>\n",
       "      <td>1</td>\n",
       "      <td>2</td>\n",
       "      <td>0</td>\n",
       "      <td>2806</td>\n",
       "      <td>0</td>\n",
       "      <td>0</td>\n",
       "      <td>6842.25</td>\n",
       "      <td>35.032128</td>\n",
       "      <td>6802.21875</td>\n",
       "      <td>27.775745</td>\n",
       "      <td>0.667503</td>\n",
       "      <td>16.786691</td>\n",
       "      <td>0.829787</td>\n",
       "      <td>0.382367</td>\n",
       "      <td>30.364453</td>\n",
       "      <td>0.604365</td>\n",
       "      <td>2600.946480</td>\n",
       "      <td>23.047963</td>\n",
       "      <td>32.649655</td>\n",
       "      <td>29.347061</td>\n",
       "      <td>27.452409</td>\n",
       "      <td>759.734301</td>\n",
       "      <td>5.092622</td>\n",
       "      <td>246.792298</td>\n",
       "      <td>0.239096</td>\n",
       "      <td>0.997215</td>\n",
       "      <td>0.092184</td>\n",
       "      <td>6.056192</td>\n",
       "      <td>2.154275</td>\n",
       "      <td>0.332367</td>\n",
       "      <td>3.976414</td>\n",
       "      <td>0.973557</td>\n",
       "      <td>0.626258</td>\n",
       "      <td>0.647423</td>\n",
       "      <td>54.904818</td>\n",
       "      <td>3.663043</td>\n",
       "      <td>...</td>\n",
       "      <td>59.601434</td>\n",
       "      <td>10.294197</td>\n",
       "      <td>267.875197</td>\n",
       "      <td>0.000332</td>\n",
       "      <td>116.841945</td>\n",
       "      <td>0.000358</td>\n",
       "      <td>0.061652</td>\n",
       "      <td>0.690946</td>\n",
       "      <td>458.755487</td>\n",
       "      <td>2.384731</td>\n",
       "      <td>4633.865247</td>\n",
       "      <td>5405.186719</td>\n",
       "      <td>0.867291</td>\n",
       "      <td>12346.754650</td>\n",
       "      <td>0.802739</td>\n",
       "      <td>0.000634</td>\n",
       "      <td>5.628355</td>\n",
       "      <td>5309.837402</td>\n",
       "      <td>0.719543</td>\n",
       "      <td>329.335781</td>\n",
       "      <td>2302.858560</td>\n",
       "      <td>0.017044</td>\n",
       "      <td>0.442014</td>\n",
       "      <td>756.727804</td>\n",
       "      <td>29.178738</td>\n",
       "      <td>2331.255257</td>\n",
       "      <td>3908.978176</td>\n",
       "      <td>0.187658</td>\n",
       "      <td>0.464951</td>\n",
       "      <td>1.171983e+07</td>\n",
       "      <td>5707.741822</td>\n",
       "      <td>0.691453</td>\n",
       "      <td>0.000859</td>\n",
       "      <td>7.755168</td>\n",
       "      <td>0.000796</td>\n",
       "      <td>0.001142</td>\n",
       "      <td>12788.777320</td>\n",
       "      <td>10.510535</td>\n",
       "      <td>0.042781</td>\n",
       "      <td>0.070754</td>\n",
       "    </tr>\n",
       "    <tr>\n",
       "      <th>2</th>\n",
       "      <td>3</td>\n",
       "      <td>2</td>\n",
       "      <td>39</td>\n",
       "      <td>1</td>\n",
       "      <td>1</td>\n",
       "      <td>2</td>\n",
       "      <td>0</td>\n",
       "      <td>1114</td>\n",
       "      <td>0</td>\n",
       "      <td>0</td>\n",
       "      <td>2848.50</td>\n",
       "      <td>34.165041</td>\n",
       "      <td>2819.28125</td>\n",
       "      <td>30.180383</td>\n",
       "      <td>0.578099</td>\n",
       "      <td>9.798949</td>\n",
       "      <td>0.600774</td>\n",
       "      <td>0.592156</td>\n",
       "      <td>29.841247</td>\n",
       "      <td>0.324679</td>\n",
       "      <td>1669.453144</td>\n",
       "      <td>18.131597</td>\n",
       "      <td>32.649655</td>\n",
       "      <td>21.914607</td>\n",
       "      <td>24.523139</td>\n",
       "      <td>605.625647</td>\n",
       "      <td>4.999862</td>\n",
       "      <td>-132.612668</td>\n",
       "      <td>0.196246</td>\n",
       "      <td>0.995141</td>\n",
       "      <td>0.087231</td>\n",
       "      <td>8.602972</td>\n",
       "      <td>2.358950</td>\n",
       "      <td>0.360389</td>\n",
       "      <td>5.519779</td>\n",
       "      <td>0.964502</td>\n",
       "      <td>0.566132</td>\n",
       "      <td>0.487469</td>\n",
       "      <td>49.046277</td>\n",
       "      <td>3.586758</td>\n",
       "      <td>...</td>\n",
       "      <td>-29.468080</td>\n",
       "      <td>8.754108</td>\n",
       "      <td>193.885955</td>\n",
       "      <td>0.000655</td>\n",
       "      <td>119.840146</td>\n",
       "      <td>0.000686</td>\n",
       "      <td>0.065834</td>\n",
       "      <td>0.477533</td>\n",
       "      <td>209.973936</td>\n",
       "      <td>2.023957</td>\n",
       "      <td>3450.891532</td>\n",
       "      <td>2400.495948</td>\n",
       "      <td>0.883697</td>\n",
       "      <td>7823.888272</td>\n",
       "      <td>0.827946</td>\n",
       "      <td>0.000959</td>\n",
       "      <td>5.497215</td>\n",
       "      <td>3899.360310</td>\n",
       "      <td>0.749124</td>\n",
       "      <td>265.955210</td>\n",
       "      <td>647.870316</td>\n",
       "      <td>0.019758</td>\n",
       "      <td>0.501534</td>\n",
       "      <td>509.057143</td>\n",
       "      <td>20.054187</td>\n",
       "      <td>661.871921</td>\n",
       "      <td>2607.817548</td>\n",
       "      <td>0.267246</td>\n",
       "      <td>0.176926</td>\n",
       "      <td>2.498842e+06</td>\n",
       "      <td>3735.571429</td>\n",
       "      <td>0.735593</td>\n",
       "      <td>0.001540</td>\n",
       "      <td>7.250617</td>\n",
       "      <td>0.001460</td>\n",
       "      <td>0.002040</td>\n",
       "      <td>10151.403250</td>\n",
       "      <td>12.556235</td>\n",
       "      <td>0.085777</td>\n",
       "      <td>0.059948</td>\n",
       "    </tr>\n",
       "    <tr>\n",
       "      <th>3</th>\n",
       "      <td>4</td>\n",
       "      <td>1</td>\n",
       "      <td>47</td>\n",
       "      <td>1</td>\n",
       "      <td>1</td>\n",
       "      <td>2</td>\n",
       "      <td>0</td>\n",
       "      <td>1580</td>\n",
       "      <td>0</td>\n",
       "      <td>0</td>\n",
       "      <td>5865.00</td>\n",
       "      <td>39.843444</td>\n",
       "      <td>5808.87500</td>\n",
       "      <td>41.437198</td>\n",
       "      <td>0.488177</td>\n",
       "      <td>14.385234</td>\n",
       "      <td>0.525354</td>\n",
       "      <td>0.551074</td>\n",
       "      <td>38.160844</td>\n",
       "      <td>0.347157</td>\n",
       "      <td>3201.118401</td>\n",
       "      <td>21.769182</td>\n",
       "      <td>39.537956</td>\n",
       "      <td>24.698178</td>\n",
       "      <td>31.956314</td>\n",
       "      <td>1037.987452</td>\n",
       "      <td>4.399902</td>\n",
       "      <td>-2758.353542</td>\n",
       "      <td>0.370060</td>\n",
       "      <td>0.994560</td>\n",
       "      <td>0.174157</td>\n",
       "      <td>14.748448</td>\n",
       "      <td>2.155423</td>\n",
       "      <td>0.326782</td>\n",
       "      <td>12.066336</td>\n",
       "      <td>0.972825</td>\n",
       "      <td>0.667424</td>\n",
       "      <td>0.680754</td>\n",
       "      <td>63.912628</td>\n",
       "      <td>3.324637</td>\n",
       "      <td>...</td>\n",
       "      <td>-349.836549</td>\n",
       "      <td>14.323542</td>\n",
       "      <td>28.309243</td>\n",
       "      <td>0.000717</td>\n",
       "      <td>298.528870</td>\n",
       "      <td>0.000748</td>\n",
       "      <td>0.074021</td>\n",
       "      <td>0.723785</td>\n",
       "      <td>460.435317</td>\n",
       "      <td>2.467599</td>\n",
       "      <td>7142.130550</td>\n",
       "      <td>4367.559648</td>\n",
       "      <td>0.858010</td>\n",
       "      <td>21807.555660</td>\n",
       "      <td>0.782048</td>\n",
       "      <td>0.000976</td>\n",
       "      <td>5.684309</td>\n",
       "      <td>8432.939350</td>\n",
       "      <td>0.700629</td>\n",
       "      <td>634.119546</td>\n",
       "      <td>1260.606475</td>\n",
       "      <td>0.015694</td>\n",
       "      <td>0.560344</td>\n",
       "      <td>1118.445892</td>\n",
       "      <td>31.325651</td>\n",
       "      <td>1275.955912</td>\n",
       "      <td>5266.740560</td>\n",
       "      <td>0.255243</td>\n",
       "      <td>0.143694</td>\n",
       "      <td>1.161534e+07</td>\n",
       "      <td>7189.520541</td>\n",
       "      <td>0.775392</td>\n",
       "      <td>0.001576</td>\n",
       "      <td>7.601097</td>\n",
       "      <td>0.001290</td>\n",
       "      <td>0.001179</td>\n",
       "      <td>24152.978110</td>\n",
       "      <td>25.953500</td>\n",
       "      <td>0.082586</td>\n",
       "      <td>0.040302</td>\n",
       "    </tr>\n",
       "    <tr>\n",
       "      <th>4</th>\n",
       "      <td>5</td>\n",
       "      <td>1</td>\n",
       "      <td>43</td>\n",
       "      <td>2</td>\n",
       "      <td>1</td>\n",
       "      <td>2</td>\n",
       "      <td>0</td>\n",
       "      <td>1435</td>\n",
       "      <td>0</td>\n",
       "      <td>0</td>\n",
       "      <td>3104.25</td>\n",
       "      <td>39.651608</td>\n",
       "      <td>3065.87500</td>\n",
       "      <td>43.267747</td>\n",
       "      <td>0.516445</td>\n",
       "      <td>9.769965</td>\n",
       "      <td>0.394624</td>\n",
       "      <td>0.644578</td>\n",
       "      <td>38.762095</td>\n",
       "      <td>0.225802</td>\n",
       "      <td>1976.195692</td>\n",
       "      <td>17.074505</td>\n",
       "      <td>39.051248</td>\n",
       "      <td>18.027756</td>\n",
       "      <td>31.533454</td>\n",
       "      <td>1004.096184</td>\n",
       "      <td>4.874239</td>\n",
       "      <td>-1213.365238</td>\n",
       "      <td>0.187202</td>\n",
       "      <td>0.996089</td>\n",
       "      <td>0.094152</td>\n",
       "      <td>9.523002</td>\n",
       "      <td>2.303011</td>\n",
       "      <td>0.356399</td>\n",
       "      <td>6.849702</td>\n",
       "      <td>0.970781</td>\n",
       "      <td>0.595981</td>\n",
       "      <td>0.663384</td>\n",
       "      <td>63.066909</td>\n",
       "      <td>3.478654</td>\n",
       "      <td>...</td>\n",
       "      <td>-197.810632</td>\n",
       "      <td>13.393662</td>\n",
       "      <td>112.686716</td>\n",
       "      <td>0.000612</td>\n",
       "      <td>204.116138</td>\n",
       "      <td>0.000636</td>\n",
       "      <td>0.063036</td>\n",
       "      <td>0.590316</td>\n",
       "      <td>206.159361</td>\n",
       "      <td>2.303556</td>\n",
       "      <td>6651.433706</td>\n",
       "      <td>2260.097897</td>\n",
       "      <td>0.852286</td>\n",
       "      <td>18431.933430</td>\n",
       "      <td>0.781738</td>\n",
       "      <td>0.000821</td>\n",
       "      <td>5.772426</td>\n",
       "      <td>7849.138022</td>\n",
       "      <td>0.688383</td>\n",
       "      <td>461.578858</td>\n",
       "      <td>700.344825</td>\n",
       "      <td>0.016929</td>\n",
       "      <td>0.531189</td>\n",
       "      <td>561.998110</td>\n",
       "      <td>17.911153</td>\n",
       "      <td>715.649338</td>\n",
       "      <td>5174.824621</td>\n",
       "      <td>0.255617</td>\n",
       "      <td>0.090587</td>\n",
       "      <td>5.788522e+06</td>\n",
       "      <td>7122.637996</td>\n",
       "      <td>0.756142</td>\n",
       "      <td>0.001447</td>\n",
       "      <td>7.450933</td>\n",
       "      <td>0.001233</td>\n",
       "      <td>0.001903</td>\n",
       "      <td>20879.171310</td>\n",
       "      <td>33.389569</td>\n",
       "      <td>0.068150</td>\n",
       "      <td>0.029494</td>\n",
       "    </tr>\n",
       "  </tbody>\n",
       "</table>\n",
       "<p>5 rows × 852 columns</p>\n",
       "</div>"
      ],
      "text/plain": [
       "   Patient ID  Gender  Age  ...       v840      v841      v842\n",
       "0           1       1   51  ...   8.102155  0.081455  0.065024\n",
       "1           2       1   52  ...  10.510535  0.042781  0.070754\n",
       "2           3       2   39  ...  12.556235  0.085777  0.059948\n",
       "3           4       1   47  ...  25.953500  0.082586  0.040302\n",
       "4           5       1   43  ...  33.389569  0.068150  0.029494\n",
       "\n",
       "[5 rows x 852 columns]"
      ]
     },
     "execution_count": 4,
     "metadata": {
      "tags": []
     },
     "output_type": "execute_result"
    }
   ],
   "source": [
    "data.head()"
   ]
  },
  {
   "cell_type": "code",
   "execution_count": 5,
   "metadata": {
    "colab": {
     "base_uri": "https://localhost:8080/",
     "height": 415
    },
    "id": "wVNvd4LkMh7G",
    "outputId": "a0142a59-7bb2-42ee-ed79-a0d8bcf1d249",
    "scrolled": false
   },
   "outputs": [
    {
     "data": {
      "text/html": [
       "<div>\n",
       "<style scoped>\n",
       "    .dataframe tbody tr th:only-of-type {\n",
       "        vertical-align: middle;\n",
       "    }\n",
       "\n",
       "    .dataframe tbody tr th {\n",
       "        vertical-align: top;\n",
       "    }\n",
       "\n",
       "    .dataframe thead th {\n",
       "        text-align: right;\n",
       "    }\n",
       "</style>\n",
       "<table border=\"1\" class=\"dataframe\">\n",
       "  <thead>\n",
       "    <tr style=\"text-align: right;\">\n",
       "      <th></th>\n",
       "      <th>count</th>\n",
       "      <th>mean</th>\n",
       "      <th>std</th>\n",
       "      <th>min</th>\n",
       "      <th>25%</th>\n",
       "      <th>50%</th>\n",
       "      <th>75%</th>\n",
       "      <th>max</th>\n",
       "    </tr>\n",
       "  </thead>\n",
       "  <tbody>\n",
       "    <tr>\n",
       "      <th>Patient ID</th>\n",
       "      <td>197.0</td>\n",
       "      <td>99.000000</td>\n",
       "      <td>57.013156</td>\n",
       "      <td>1.000000</td>\n",
       "      <td>50.000000</td>\n",
       "      <td>99.000000</td>\n",
       "      <td>148.000000</td>\n",
       "      <td>197.000000</td>\n",
       "    </tr>\n",
       "    <tr>\n",
       "      <th>Gender</th>\n",
       "      <td>197.0</td>\n",
       "      <td>1.208122</td>\n",
       "      <td>0.406999</td>\n",
       "      <td>1.000000</td>\n",
       "      <td>1.000000</td>\n",
       "      <td>1.000000</td>\n",
       "      <td>1.000000</td>\n",
       "      <td>2.000000</td>\n",
       "    </tr>\n",
       "    <tr>\n",
       "      <th>Age</th>\n",
       "      <td>197.0</td>\n",
       "      <td>49.532995</td>\n",
       "      <td>10.557190</td>\n",
       "      <td>18.000000</td>\n",
       "      <td>43.000000</td>\n",
       "      <td>50.000000</td>\n",
       "      <td>56.000000</td>\n",
       "      <td>75.000000</td>\n",
       "    </tr>\n",
       "    <tr>\n",
       "      <th>Clinical A</th>\n",
       "      <td>197.0</td>\n",
       "      <td>2.345178</td>\n",
       "      <td>1.001346</td>\n",
       "      <td>1.000000</td>\n",
       "      <td>2.000000</td>\n",
       "      <td>2.000000</td>\n",
       "      <td>3.000000</td>\n",
       "      <td>4.000000</td>\n",
       "    </tr>\n",
       "    <tr>\n",
       "      <th>Clinical B</th>\n",
       "      <td>197.0</td>\n",
       "      <td>1.928934</td>\n",
       "      <td>0.772635</td>\n",
       "      <td>0.000000</td>\n",
       "      <td>1.000000</td>\n",
       "      <td>2.000000</td>\n",
       "      <td>2.000000</td>\n",
       "      <td>3.000000</td>\n",
       "    </tr>\n",
       "    <tr>\n",
       "      <th>...</th>\n",
       "      <td>...</td>\n",
       "      <td>...</td>\n",
       "      <td>...</td>\n",
       "      <td>...</td>\n",
       "      <td>...</td>\n",
       "      <td>...</td>\n",
       "      <td>...</td>\n",
       "      <td>...</td>\n",
       "    </tr>\n",
       "    <tr>\n",
       "      <th>v838</th>\n",
       "      <td>197.0</td>\n",
       "      <td>0.000821</td>\n",
       "      <td>0.001002</td>\n",
       "      <td>0.000064</td>\n",
       "      <td>0.000294</td>\n",
       "      <td>0.000532</td>\n",
       "      <td>0.000960</td>\n",
       "      <td>0.009209</td>\n",
       "    </tr>\n",
       "    <tr>\n",
       "      <th>v839</th>\n",
       "      <td>197.0</td>\n",
       "      <td>21231.855628</td>\n",
       "      <td>25862.635795</td>\n",
       "      <td>136.164176</td>\n",
       "      <td>6006.401544</td>\n",
       "      <td>11174.884700</td>\n",
       "      <td>22244.272550</td>\n",
       "      <td>125045.290100</td>\n",
       "    </tr>\n",
       "    <tr>\n",
       "      <th>v840</th>\n",
       "      <td>197.0</td>\n",
       "      <td>9.683495</td>\n",
       "      <td>7.878545</td>\n",
       "      <td>1.472955</td>\n",
       "      <td>4.581915</td>\n",
       "      <td>7.573953</td>\n",
       "      <td>11.472103</td>\n",
       "      <td>46.554126</td>\n",
       "    </tr>\n",
       "    <tr>\n",
       "      <th>v841</th>\n",
       "      <td>197.0</td>\n",
       "      <td>0.045190</td>\n",
       "      <td>0.076926</td>\n",
       "      <td>0.000521</td>\n",
       "      <td>0.011046</td>\n",
       "      <td>0.026186</td>\n",
       "      <td>0.055755</td>\n",
       "      <td>0.745910</td>\n",
       "    </tr>\n",
       "    <tr>\n",
       "      <th>v842</th>\n",
       "      <td>197.0</td>\n",
       "      <td>0.196046</td>\n",
       "      <td>0.160773</td>\n",
       "      <td>0.023939</td>\n",
       "      <td>0.096692</td>\n",
       "      <td>0.143336</td>\n",
       "      <td>0.243704</td>\n",
       "      <td>1.085457</td>\n",
       "    </tr>\n",
       "  </tbody>\n",
       "</table>\n",
       "<p>852 rows × 8 columns</p>\n",
       "</div>"
      ],
      "text/plain": [
       "            count          mean  ...           75%            max\n",
       "Patient ID  197.0     99.000000  ...    148.000000     197.000000\n",
       "Gender      197.0      1.208122  ...      1.000000       2.000000\n",
       "Age         197.0     49.532995  ...     56.000000      75.000000\n",
       "Clinical A  197.0      2.345178  ...      3.000000       4.000000\n",
       "Clinical B  197.0      1.928934  ...      2.000000       3.000000\n",
       "...           ...           ...  ...           ...            ...\n",
       "v838        197.0      0.000821  ...      0.000960       0.009209\n",
       "v839        197.0  21231.855628  ...  22244.272550  125045.290100\n",
       "v840        197.0      9.683495  ...     11.472103      46.554126\n",
       "v841        197.0      0.045190  ...      0.055755       0.745910\n",
       "v842        197.0      0.196046  ...      0.243704       1.085457\n",
       "\n",
       "[852 rows x 8 columns]"
      ]
     },
     "execution_count": 5,
     "metadata": {
      "tags": []
     },
     "output_type": "execute_result"
    }
   ],
   "source": [
    "data.describe().transpose()"
   ]
  },
  {
   "cell_type": "code",
   "execution_count": 6,
   "metadata": {
    "id": "6y4y1juLMh7I"
   },
   "outputs": [],
   "source": [
    "data_original = data.copy()"
   ]
  },
  {
   "cell_type": "markdown",
   "metadata": {
    "id": "s5E5NWvYMh7K"
   },
   "source": [
    "# Target column: Patient Status at 3 year\n",
    "alive(0), dead(1), unknown value (-1)"
   ]
  },
  {
   "cell_type": "code",
   "execution_count": 7,
   "metadata": {
    "colab": {
     "base_uri": "https://localhost:8080/"
    },
    "id": "zBinPm55Mh7L",
    "outputId": "ef2f351b-3270-4db7-9de2-20d7e1b9dd6e"
   },
   "outputs": [
    {
     "data": {
      "text/plain": [
       " 0    164\n",
       " 1     31\n",
       "-1      2\n",
       "Name: Patient Status at 3 Year, dtype: int64"
      ]
     },
     "execution_count": 7,
     "metadata": {
      "tags": []
     },
     "output_type": "execute_result"
    }
   ],
   "source": [
    "data['Patient Status at 3 Year'].value_counts()"
   ]
  },
  {
   "cell_type": "code",
   "execution_count": 8,
   "metadata": {
    "colab": {
     "base_uri": "https://localhost:8080/",
     "height": 211
    },
    "id": "Ssq7cVVaMh7N",
    "outputId": "1c9e0939-8579-442b-e1f4-ad4b8528ae09"
   },
   "outputs": [
    {
     "data": {
      "text/html": [
       "<div>\n",
       "<style scoped>\n",
       "    .dataframe tbody tr th:only-of-type {\n",
       "        vertical-align: middle;\n",
       "    }\n",
       "\n",
       "    .dataframe tbody tr th {\n",
       "        vertical-align: top;\n",
       "    }\n",
       "\n",
       "    .dataframe thead th {\n",
       "        text-align: right;\n",
       "    }\n",
       "</style>\n",
       "<table border=\"1\" class=\"dataframe\">\n",
       "  <thead>\n",
       "    <tr style=\"text-align: right;\">\n",
       "      <th></th>\n",
       "      <th>Patient ID</th>\n",
       "      <th>Gender</th>\n",
       "      <th>Age</th>\n",
       "      <th>Clinical A</th>\n",
       "      <th>Clinical B</th>\n",
       "      <th>Clinical C</th>\n",
       "      <th>Clinical D</th>\n",
       "      <th>Time to Event</th>\n",
       "      <th>Patient Status</th>\n",
       "      <th>Patient Status at 3 Year</th>\n",
       "      <th>v1</th>\n",
       "      <th>v2</th>\n",
       "      <th>v3</th>\n",
       "      <th>v4</th>\n",
       "      <th>v5</th>\n",
       "      <th>v6</th>\n",
       "      <th>v7</th>\n",
       "      <th>v8</th>\n",
       "      <th>v9</th>\n",
       "      <th>v10</th>\n",
       "      <th>v11</th>\n",
       "      <th>v12</th>\n",
       "      <th>v13</th>\n",
       "      <th>v14</th>\n",
       "      <th>v15</th>\n",
       "      <th>v16</th>\n",
       "      <th>v17</th>\n",
       "      <th>v18</th>\n",
       "      <th>v19</th>\n",
       "      <th>v20</th>\n",
       "      <th>v21</th>\n",
       "      <th>v22</th>\n",
       "      <th>v23</th>\n",
       "      <th>v24</th>\n",
       "      <th>v25</th>\n",
       "      <th>v26</th>\n",
       "      <th>v27</th>\n",
       "      <th>v28</th>\n",
       "      <th>v29</th>\n",
       "      <th>v30</th>\n",
       "      <th>...</th>\n",
       "      <th>v803</th>\n",
       "      <th>v804</th>\n",
       "      <th>v805</th>\n",
       "      <th>v806</th>\n",
       "      <th>v807</th>\n",
       "      <th>v808</th>\n",
       "      <th>v809</th>\n",
       "      <th>v810</th>\n",
       "      <th>v811</th>\n",
       "      <th>v812</th>\n",
       "      <th>v813</th>\n",
       "      <th>v814</th>\n",
       "      <th>v815</th>\n",
       "      <th>v816</th>\n",
       "      <th>v817</th>\n",
       "      <th>v818</th>\n",
       "      <th>v819</th>\n",
       "      <th>v820</th>\n",
       "      <th>v821</th>\n",
       "      <th>v822</th>\n",
       "      <th>v823</th>\n",
       "      <th>v824</th>\n",
       "      <th>v825</th>\n",
       "      <th>v826</th>\n",
       "      <th>v827</th>\n",
       "      <th>v828</th>\n",
       "      <th>v829</th>\n",
       "      <th>v830</th>\n",
       "      <th>v831</th>\n",
       "      <th>v832</th>\n",
       "      <th>v833</th>\n",
       "      <th>v834</th>\n",
       "      <th>v835</th>\n",
       "      <th>v836</th>\n",
       "      <th>v837</th>\n",
       "      <th>v838</th>\n",
       "      <th>v839</th>\n",
       "      <th>v840</th>\n",
       "      <th>v841</th>\n",
       "      <th>v842</th>\n",
       "    </tr>\n",
       "  </thead>\n",
       "  <tbody>\n",
       "    <tr>\n",
       "      <th>0</th>\n",
       "      <td>1</td>\n",
       "      <td>1</td>\n",
       "      <td>51</td>\n",
       "      <td>1</td>\n",
       "      <td>0</td>\n",
       "      <td>1</td>\n",
       "      <td>0</td>\n",
       "      <td>993</td>\n",
       "      <td>0</td>\n",
       "      <td>-1</td>\n",
       "      <td>2376.0</td>\n",
       "      <td>44.070965</td>\n",
       "      <td>2321.90625</td>\n",
       "      <td>47.047567</td>\n",
       "      <td>0.471206</td>\n",
       "      <td>5.829121</td>\n",
       "      <td>0.362637</td>\n",
       "      <td>0.775042</td>\n",
       "      <td>44.070965</td>\n",
       "      <td>0.123898</td>\n",
       "      <td>1799.574040</td>\n",
       "      <td>17.061189</td>\n",
       "      <td>44.00000</td>\n",
       "      <td>17.088007</td>\n",
       "      <td>23.648445</td>\n",
       "      <td>560.543814</td>\n",
       "      <td>3.972923</td>\n",
       "      <td>-106.121904</td>\n",
       "      <td>0.334698</td>\n",
       "      <td>0.995966</td>\n",
       "      <td>0.152574</td>\n",
       "      <td>5.279167</td>\n",
       "      <td>1.921166</td>\n",
       "      <td>0.376804</td>\n",
       "      <td>3.843143</td>\n",
       "      <td>0.971420</td>\n",
       "      <td>0.665239</td>\n",
       "      <td>0.337986</td>\n",
       "      <td>47.296891</td>\n",
       "      <td>2.929498</td>\n",
       "      <td>...</td>\n",
       "      <td>-91.169469</td>\n",
       "      <td>8.839778</td>\n",
       "      <td>128.219197</td>\n",
       "      <td>0.000716</td>\n",
       "      <td>71.546083</td>\n",
       "      <td>0.000749</td>\n",
       "      <td>0.068509</td>\n",
       "      <td>0.496877</td>\n",
       "      <td>187.353614</td>\n",
       "      <td>2.052828</td>\n",
       "      <td>2889.263673</td>\n",
       "      <td>2162.156294</td>\n",
       "      <td>0.89400</td>\n",
       "      <td>6737.718172</td>\n",
       "      <td>0.847999</td>\n",
       "      <td>0.001073</td>\n",
       "      <td>5.175846</td>\n",
       "      <td>3240.511014</td>\n",
       "      <td>0.777202</td>\n",
       "      <td>148.055805</td>\n",
       "      <td>290.942086</td>\n",
       "      <td>0.026557</td>\n",
       "      <td>0.417394</td>\n",
       "      <td>316.802371</td>\n",
       "      <td>20.156785</td>\n",
       "      <td>308.363636</td>\n",
       "      <td>1761.811230</td>\n",
       "      <td>0.239583</td>\n",
       "      <td>0.097143</td>\n",
       "      <td>9.989379e+05</td>\n",
       "      <td>2863.166008</td>\n",
       "      <td>0.671965</td>\n",
       "      <td>0.001812</td>\n",
       "      <td>7.082423</td>\n",
       "      <td>0.001697</td>\n",
       "      <td>0.002704</td>\n",
       "      <td>5599.760835</td>\n",
       "      <td>8.102155</td>\n",
       "      <td>0.081455</td>\n",
       "      <td>0.065024</td>\n",
       "    </tr>\n",
       "    <tr>\n",
       "      <th>39</th>\n",
       "      <td>40</td>\n",
       "      <td>1</td>\n",
       "      <td>68</td>\n",
       "      <td>2</td>\n",
       "      <td>1</td>\n",
       "      <td>2</td>\n",
       "      <td>1260</td>\n",
       "      <td>878</td>\n",
       "      <td>0</td>\n",
       "      <td>-1</td>\n",
       "      <td>9765.0</td>\n",
       "      <td>46.389654</td>\n",
       "      <td>9717.12500</td>\n",
       "      <td>35.863037</td>\n",
       "      <td>0.636385</td>\n",
       "      <td>18.977181</td>\n",
       "      <td>0.662121</td>\n",
       "      <td>0.356110</td>\n",
       "      <td>43.304157</td>\n",
       "      <td>0.529157</td>\n",
       "      <td>3460.369252</td>\n",
       "      <td>23.745686</td>\n",
       "      <td>44.31986</td>\n",
       "      <td>30.886890</td>\n",
       "      <td>18.081394</td>\n",
       "      <td>328.648623</td>\n",
       "      <td>2.569189</td>\n",
       "      <td>136.568388</td>\n",
       "      <td>0.593585</td>\n",
       "      <td>0.998560</td>\n",
       "      <td>0.376447</td>\n",
       "      <td>2.192027</td>\n",
       "      <td>1.255421</td>\n",
       "      <td>0.239565</td>\n",
       "      <td>1.892132</td>\n",
       "      <td>0.987592</td>\n",
       "      <td>0.828888</td>\n",
       "      <td>0.584681</td>\n",
       "      <td>36.162789</td>\n",
       "      <td>2.140433</td>\n",
       "      <td>...</td>\n",
       "      <td>139.801813</td>\n",
       "      <td>16.359911</td>\n",
       "      <td>236.828304</td>\n",
       "      <td>0.000634</td>\n",
       "      <td>52.876600</td>\n",
       "      <td>0.000777</td>\n",
       "      <td>0.111960</td>\n",
       "      <td>1.486383</td>\n",
       "      <td>989.764846</td>\n",
       "      <td>4.089545</td>\n",
       "      <td>1436.062004</td>\n",
       "      <td>4968.251857</td>\n",
       "      <td>0.76098</td>\n",
       "      <td>7082.765947</td>\n",
       "      <td>0.668002</td>\n",
       "      <td>0.002617</td>\n",
       "      <td>5.257892</td>\n",
       "      <td>1843.811764</td>\n",
       "      <td>0.548118</td>\n",
       "      <td>192.299328</td>\n",
       "      <td>14826.192470</td>\n",
       "      <td>0.022393</td>\n",
       "      <td>0.404266</td>\n",
       "      <td>561.121038</td>\n",
       "      <td>31.082133</td>\n",
       "      <td>14914.184440</td>\n",
       "      <td>1550.971491</td>\n",
       "      <td>0.106605</td>\n",
       "      <td>8.805621</td>\n",
       "      <td>2.529703e+07</td>\n",
       "      <td>2272.789625</td>\n",
       "      <td>0.661095</td>\n",
       "      <td>0.001646</td>\n",
       "      <td>7.519588</td>\n",
       "      <td>0.001409</td>\n",
       "      <td>0.000621</td>\n",
       "      <td>5263.966268</td>\n",
       "      <td>5.328614</td>\n",
       "      <td>0.016502</td>\n",
       "      <td>0.261644</td>\n",
       "    </tr>\n",
       "  </tbody>\n",
       "</table>\n",
       "<p>2 rows × 852 columns</p>\n",
       "</div>"
      ],
      "text/plain": [
       "    Patient ID  Gender  Age  ...      v840      v841      v842\n",
       "0            1       1   51  ...  8.102155  0.081455  0.065024\n",
       "39          40       1   68  ...  5.328614  0.016502  0.261644\n",
       "\n",
       "[2 rows x 852 columns]"
      ]
     },
     "execution_count": 8,
     "metadata": {
      "tags": []
     },
     "output_type": "execute_result"
    }
   ],
   "source": [
    "data[data['Patient Status at 3 Year']==-1]"
   ]
  },
  {
   "cell_type": "markdown",
   "metadata": {
    "id": "tZb9mSjyMh7Q"
   },
   "source": [
    "There are two rows with unknown value(-1), so drop that rows."
   ]
  },
  {
   "cell_type": "code",
   "execution_count": 9,
   "metadata": {
    "id": "lhbf--91Mh7Q"
   },
   "outputs": [],
   "source": [
    "data = data[data['Patient Status at 3 Year']!=-1]"
   ]
  },
  {
   "cell_type": "markdown",
   "metadata": {
    "id": "LNnDxOztMh7S"
   },
   "source": [
    "# Data Preprocessing: Feature Engineering\n",
    "\n",
    "\n",
    "**1. Gender**\n",
    "\n",
    "category colum(1&2),\n",
    "\n",
    "no missing value"
   ]
  },
  {
   "cell_type": "code",
   "execution_count": 10,
   "metadata": {
    "colab": {
     "base_uri": "https://localhost:8080/"
    },
    "id": "tQBJf5uzMh7T",
    "outputId": "0bb4cc1f-96bf-4be6-9506-7d055b1b7c7e",
    "scrolled": true
   },
   "outputs": [
    {
     "data": {
      "text/plain": [
       "1    154\n",
       "2     41\n",
       "Name: Gender, dtype: int64"
      ]
     },
     "execution_count": 10,
     "metadata": {
      "tags": []
     },
     "output_type": "execute_result"
    }
   ],
   "source": [
    "data['Gender'].value_counts()"
   ]
  },
  {
   "cell_type": "markdown",
   "metadata": {
    "id": "RkRW60ojMh7V"
   },
   "source": [
    "**convert to dummies**"
   ]
  },
  {
   "cell_type": "code",
   "execution_count": 11,
   "metadata": {
    "id": "_ObBZuvhMh7V"
   },
   "outputs": [],
   "source": [
    "def create_dummies(df,column_name):\n",
    "    dummies = pd.get_dummies(df[column_name],prefix=column_name)\n",
    "    df = pd.concat([df,dummies],axis=1)\n",
    "    return df"
   ]
  },
  {
   "cell_type": "code",
   "execution_count": 12,
   "metadata": {
    "id": "m6GprCqzMh7Y"
   },
   "outputs": [],
   "source": [
    "data = create_dummies(data,'Gender')\n",
    "data = data.drop('Gender',axis=1)"
   ]
  },
  {
   "cell_type": "markdown",
   "metadata": {
    "id": "XVR-9DDgMh7a"
   },
   "source": [
    "**2. Age**\n",
    "\n",
    "no missing value"
   ]
  },
  {
   "cell_type": "code",
   "execution_count": 13,
   "metadata": {
    "colab": {
     "base_uri": "https://localhost:8080/"
    },
    "id": "0soaBnqvMh7a",
    "outputId": "57c0060d-f495-44a5-e378-331368d49c74"
   },
   "outputs": [
    {
     "data": {
      "text/plain": [
       "count    195.000000\n",
       "mean      49.430769\n",
       "std       10.527288\n",
       "min       18.000000\n",
       "25%       43.000000\n",
       "50%       49.000000\n",
       "75%       56.000000\n",
       "max       75.000000\n",
       "Name: Age, dtype: float64"
      ]
     },
     "execution_count": 13,
     "metadata": {
      "tags": []
     },
     "output_type": "execute_result"
    }
   ],
   "source": [
    "data['Age'].describe()"
   ]
  },
  {
   "cell_type": "code",
   "execution_count": 14,
   "metadata": {
    "colab": {
     "base_uri": "https://localhost:8080/",
     "height": 351
    },
    "id": "koQbjyaaMh7c",
    "outputId": "34d9ff43-7dfe-4dfc-b716-06255604a24d"
   },
   "outputs": [
    {
     "name": "stderr",
     "output_type": "stream",
     "text": [
      "/usr/local/lib/python3.6/dist-packages/seaborn/distributions.py:2551: FutureWarning: `distplot` is a deprecated function and will be removed in a future version. Please adapt your code to use either `displot` (a figure-level function with similar flexibility) or `histplot` (an axes-level function for histograms).\n",
      "  warnings.warn(msg, FutureWarning)\n"
     ]
    },
    {
     "data": {
      "text/plain": [
       "<matplotlib.axes._subplots.AxesSubplot at 0x7f615356e128>"
      ]
     },
     "execution_count": 14,
     "metadata": {
      "tags": []
     },
     "output_type": "execute_result"
    },
    {
     "data": {
      "image/png": "[encoded data removed]",
      "text/plain": [
       "<Figure size 432x288 with 1 Axes>"
      ]
     },
     "metadata": {
      "needs_background": "light",
      "tags": []
     },
     "output_type": "display_data"
    }
   ],
   "source": [
    "sns.distplot(data['Age'],kde=False,bins=50)"
   ]
  },
  {
   "cell_type": "markdown",
   "metadata": {
    "id": "l-OIOB0HMh7g"
   },
   "source": [
    "**3. Clinical_A**\n",
    "\n",
    "Ordinal: 1-4 \n",
    "\n",
    "no missing value"
   ]
  },
  {
   "cell_type": "code",
   "execution_count": 15,
   "metadata": {
    "colab": {
     "base_uri": "https://localhost:8080/",
     "height": 351
    },
    "id": "GEynXdhoMh7h",
    "outputId": "50ebe43e-85b4-4d53-8b90-e8fd56a927b8"
   },
   "outputs": [
    {
     "name": "stderr",
     "output_type": "stream",
     "text": [
      "/usr/local/lib/python3.6/dist-packages/seaborn/_decorators.py:43: FutureWarning: Pass the following variable as a keyword arg: x. From version 0.12, the only valid positional argument will be `data`, and passing other arguments without an explicit keyword will result in an error or misinterpretation.\n",
      "  FutureWarning\n"
     ]
    },
    {
     "data": {
      "text/plain": [
       "<matplotlib.axes._subplots.AxesSubplot at 0x7f61534f9f60>"
      ]
     },
     "execution_count": 15,
     "metadata": {
      "tags": []
     },
     "output_type": "execute_result"
    },
    {
     "data": {
      "image/png": "[encoded data removed]",
      "text/plain": [
       "<Figure size 432x288 with 1 Axes>"
      ]
     },
     "metadata": {
      "needs_background": "light",
      "tags": []
     },
     "output_type": "display_data"
    }
   ],
   "source": [
    "sns.countplot(data['Clinical A'])"
   ]
  },
  {
   "cell_type": "markdown",
   "metadata": {
    "id": "okd7EooOMh7j"
   },
   "source": [
    "**4. Clinical_B**\n",
    "\n",
    "ordinal: 0-3\n",
    "\n",
    "no missing value"
   ]
  },
  {
   "cell_type": "code",
   "execution_count": 16,
   "metadata": {
    "colab": {
     "base_uri": "https://localhost:8080/"
    },
    "id": "RHrVWzGnMh7j",
    "outputId": "fb8d65f0-d4dc-449e-f8bb-f2767538c9c0"
   },
   "outputs": [
    {
     "data": {
      "text/plain": [
       "2    97\n",
       "1    47\n",
       "3    46\n",
       "0     5\n",
       "Name: Clinical B, dtype: int64"
      ]
     },
     "execution_count": 16,
     "metadata": {
      "tags": []
     },
     "output_type": "execute_result"
    }
   ],
   "source": [
    "data['Clinical B'].value_counts()"
   ]
  },
  {
   "cell_type": "markdown",
   "metadata": {
    "id": "YxcR5-b2Mh7l"
   },
   "source": [
    "**5. Clinical_C**\n",
    "\n",
    "ordinal: 1-4\n",
    "\n",
    "no missing value"
   ]
  },
  {
   "cell_type": "code",
   "execution_count": 17,
   "metadata": {
    "colab": {
     "base_uri": "https://localhost:8080/"
    },
    "id": "1dU8E9MRMh7m",
    "outputId": "7fad7b3d-2f90-4fdb-c4c4-c8e76a0515a1"
   },
   "outputs": [
    {
     "data": {
      "text/plain": [
       "3    97\n",
       "4    71\n",
       "2    27\n",
       "Name: Clinical C, dtype: int64"
      ]
     },
     "execution_count": 17,
     "metadata": {
      "tags": []
     },
     "output_type": "execute_result"
    }
   ],
   "source": [
    "data['Clinical C'].value_counts()"
   ]
  },
  {
   "cell_type": "markdown",
   "metadata": {
    "id": "B1DHHlRIMh7r"
   },
   "source": [
    "**6. Clinical_D**\n",
    "\n",
    "continuous\n",
    "\n",
    "no missing value"
   ]
  },
  {
   "cell_type": "code",
   "execution_count": 18,
   "metadata": {
    "colab": {
     "base_uri": "https://localhost:8080/"
    },
    "id": "G_bQIpfEMh7r",
    "outputId": "29ab9e41-4335-48db-8d93-a87884e8eb3a",
    "scrolled": true
   },
   "outputs": [
    {
     "data": {
      "text/plain": [
       "count       195.000000\n",
       "mean      14002.476923\n",
       "std       41259.419518\n",
       "min           0.000000\n",
       "25%           0.000000\n",
       "50%        2240.000000\n",
       "75%       10400.000000\n",
       "max      281000.000000\n",
       "Name: Clinical D, dtype: float64"
      ]
     },
     "execution_count": 18,
     "metadata": {
      "tags": []
     },
     "output_type": "execute_result"
    }
   ],
   "source": [
    "data['Clinical D'].describe()"
   ]
  },
  {
   "cell_type": "markdown",
   "metadata": {
    "id": "emAcQwt6Mh7u"
   },
   "source": [
    "**7. Time to event**\n",
    "\n",
    "Given from dataset description, 'Time to Event' is not one of the model's inputs. It only implies patient status at 3 years"
   ]
  },
  {
   "cell_type": "code",
   "execution_count": 19,
   "metadata": {
    "colab": {
     "base_uri": "https://localhost:8080/",
     "height": 297
    },
    "id": "lhN-Dy_nMh7u",
    "outputId": "7fc9d989-a1ad-48a6-87fe-bf8aa297c080"
   },
   "outputs": [
    {
     "data": {
      "text/plain": [
       "<matplotlib.axes._subplots.AxesSubplot at 0x7f61535d72e8>"
      ]
     },
     "execution_count": 19,
     "metadata": {
      "tags": []
     },
     "output_type": "execute_result"
    },
    {
     "data": {
      "image/png": "[encoded data removed]",
      "text/plain": [
       "<Figure size 432x288 with 1 Axes>"
      ]
     },
     "metadata": {
      "needs_background": "light",
      "tags": []
     },
     "output_type": "display_data"
    }
   ],
   "source": [
    "sns.scatterplot(x='Time to Event', y='Patient Status at 3 Year', data=data_original)"
   ]
  },
  {
   "cell_type": "markdown",
   "metadata": {
    "id": "MjbkTzjZMh7x"
   },
   "source": [
    "From the above graph: When 'Time to Event' < 1,000 , 'Patient Status at 3 Year' is equal to 1(dead).\n",
    "\n",
    "When 'Time to Event' > 1,000 , 'Patient Status at 3 Year' is equal to 0(alive)."
   ]
  },
  {
   "cell_type": "code",
   "execution_count": 20,
   "metadata": {
    "colab": {
     "base_uri": "https://localhost:8080/",
     "height": 211
    },
    "id": "Av9ZaliFMh7x",
    "outputId": "b9d5de42-9eb7-4581-a0c3-f91eb0b42bdf"
   },
   "outputs": [
    {
     "data": {
      "text/html": [
       "<div>\n",
       "<style scoped>\n",
       "    .dataframe tbody tr th:only-of-type {\n",
       "        vertical-align: middle;\n",
       "    }\n",
       "\n",
       "    .dataframe tbody tr th {\n",
       "        vertical-align: top;\n",
       "    }\n",
       "\n",
       "    .dataframe thead th {\n",
       "        text-align: right;\n",
       "    }\n",
       "</style>\n",
       "<table border=\"1\" class=\"dataframe\">\n",
       "  <thead>\n",
       "    <tr style=\"text-align: right;\">\n",
       "      <th></th>\n",
       "      <th>Patient ID</th>\n",
       "      <th>Gender</th>\n",
       "      <th>Age</th>\n",
       "      <th>Clinical A</th>\n",
       "      <th>Clinical B</th>\n",
       "      <th>Clinical C</th>\n",
       "      <th>Clinical D</th>\n",
       "      <th>Time to Event</th>\n",
       "      <th>Patient Status</th>\n",
       "      <th>Patient Status at 3 Year</th>\n",
       "      <th>v1</th>\n",
       "      <th>v2</th>\n",
       "      <th>v3</th>\n",
       "      <th>v4</th>\n",
       "      <th>v5</th>\n",
       "      <th>v6</th>\n",
       "      <th>v7</th>\n",
       "      <th>v8</th>\n",
       "      <th>v9</th>\n",
       "      <th>v10</th>\n",
       "      <th>v11</th>\n",
       "      <th>v12</th>\n",
       "      <th>v13</th>\n",
       "      <th>v14</th>\n",
       "      <th>v15</th>\n",
       "      <th>v16</th>\n",
       "      <th>v17</th>\n",
       "      <th>v18</th>\n",
       "      <th>v19</th>\n",
       "      <th>v20</th>\n",
       "      <th>v21</th>\n",
       "      <th>v22</th>\n",
       "      <th>v23</th>\n",
       "      <th>v24</th>\n",
       "      <th>v25</th>\n",
       "      <th>v26</th>\n",
       "      <th>v27</th>\n",
       "      <th>v28</th>\n",
       "      <th>v29</th>\n",
       "      <th>v30</th>\n",
       "      <th>...</th>\n",
       "      <th>v803</th>\n",
       "      <th>v804</th>\n",
       "      <th>v805</th>\n",
       "      <th>v806</th>\n",
       "      <th>v807</th>\n",
       "      <th>v808</th>\n",
       "      <th>v809</th>\n",
       "      <th>v810</th>\n",
       "      <th>v811</th>\n",
       "      <th>v812</th>\n",
       "      <th>v813</th>\n",
       "      <th>v814</th>\n",
       "      <th>v815</th>\n",
       "      <th>v816</th>\n",
       "      <th>v817</th>\n",
       "      <th>v818</th>\n",
       "      <th>v819</th>\n",
       "      <th>v820</th>\n",
       "      <th>v821</th>\n",
       "      <th>v822</th>\n",
       "      <th>v823</th>\n",
       "      <th>v824</th>\n",
       "      <th>v825</th>\n",
       "      <th>v826</th>\n",
       "      <th>v827</th>\n",
       "      <th>v828</th>\n",
       "      <th>v829</th>\n",
       "      <th>v830</th>\n",
       "      <th>v831</th>\n",
       "      <th>v832</th>\n",
       "      <th>v833</th>\n",
       "      <th>v834</th>\n",
       "      <th>v835</th>\n",
       "      <th>v836</th>\n",
       "      <th>v837</th>\n",
       "      <th>v838</th>\n",
       "      <th>v839</th>\n",
       "      <th>v840</th>\n",
       "      <th>v841</th>\n",
       "      <th>v842</th>\n",
       "    </tr>\n",
       "  </thead>\n",
       "  <tbody>\n",
       "    <tr>\n",
       "      <th>0</th>\n",
       "      <td>1</td>\n",
       "      <td>1</td>\n",
       "      <td>51</td>\n",
       "      <td>1</td>\n",
       "      <td>0</td>\n",
       "      <td>1</td>\n",
       "      <td>0</td>\n",
       "      <td>993</td>\n",
       "      <td>0</td>\n",
       "      <td>-1</td>\n",
       "      <td>2376.0</td>\n",
       "      <td>44.070965</td>\n",
       "      <td>2321.90625</td>\n",
       "      <td>47.047567</td>\n",
       "      <td>0.471206</td>\n",
       "      <td>5.829121</td>\n",
       "      <td>0.362637</td>\n",
       "      <td>0.775042</td>\n",
       "      <td>44.070965</td>\n",
       "      <td>0.123898</td>\n",
       "      <td>1799.574040</td>\n",
       "      <td>17.061189</td>\n",
       "      <td>44.00000</td>\n",
       "      <td>17.088007</td>\n",
       "      <td>23.648445</td>\n",
       "      <td>560.543814</td>\n",
       "      <td>3.972923</td>\n",
       "      <td>-106.121904</td>\n",
       "      <td>0.334698</td>\n",
       "      <td>0.995966</td>\n",
       "      <td>0.152574</td>\n",
       "      <td>5.279167</td>\n",
       "      <td>1.921166</td>\n",
       "      <td>0.376804</td>\n",
       "      <td>3.843143</td>\n",
       "      <td>0.971420</td>\n",
       "      <td>0.665239</td>\n",
       "      <td>0.337986</td>\n",
       "      <td>47.296891</td>\n",
       "      <td>2.929498</td>\n",
       "      <td>...</td>\n",
       "      <td>-91.169469</td>\n",
       "      <td>8.839778</td>\n",
       "      <td>128.219197</td>\n",
       "      <td>0.000716</td>\n",
       "      <td>71.546083</td>\n",
       "      <td>0.000749</td>\n",
       "      <td>0.068509</td>\n",
       "      <td>0.496877</td>\n",
       "      <td>187.353614</td>\n",
       "      <td>2.052828</td>\n",
       "      <td>2889.263673</td>\n",
       "      <td>2162.156294</td>\n",
       "      <td>0.89400</td>\n",
       "      <td>6737.718172</td>\n",
       "      <td>0.847999</td>\n",
       "      <td>0.001073</td>\n",
       "      <td>5.175846</td>\n",
       "      <td>3240.511014</td>\n",
       "      <td>0.777202</td>\n",
       "      <td>148.055805</td>\n",
       "      <td>290.942086</td>\n",
       "      <td>0.026557</td>\n",
       "      <td>0.417394</td>\n",
       "      <td>316.802371</td>\n",
       "      <td>20.156785</td>\n",
       "      <td>308.363636</td>\n",
       "      <td>1761.811230</td>\n",
       "      <td>0.239583</td>\n",
       "      <td>0.097143</td>\n",
       "      <td>9.989379e+05</td>\n",
       "      <td>2863.166008</td>\n",
       "      <td>0.671965</td>\n",
       "      <td>0.001812</td>\n",
       "      <td>7.082423</td>\n",
       "      <td>0.001697</td>\n",
       "      <td>0.002704</td>\n",
       "      <td>5599.760835</td>\n",
       "      <td>8.102155</td>\n",
       "      <td>0.081455</td>\n",
       "      <td>0.065024</td>\n",
       "    </tr>\n",
       "    <tr>\n",
       "      <th>39</th>\n",
       "      <td>40</td>\n",
       "      <td>1</td>\n",
       "      <td>68</td>\n",
       "      <td>2</td>\n",
       "      <td>1</td>\n",
       "      <td>2</td>\n",
       "      <td>1260</td>\n",
       "      <td>878</td>\n",
       "      <td>0</td>\n",
       "      <td>-1</td>\n",
       "      <td>9765.0</td>\n",
       "      <td>46.389654</td>\n",
       "      <td>9717.12500</td>\n",
       "      <td>35.863037</td>\n",
       "      <td>0.636385</td>\n",
       "      <td>18.977181</td>\n",
       "      <td>0.662121</td>\n",
       "      <td>0.356110</td>\n",
       "      <td>43.304157</td>\n",
       "      <td>0.529157</td>\n",
       "      <td>3460.369252</td>\n",
       "      <td>23.745686</td>\n",
       "      <td>44.31986</td>\n",
       "      <td>30.886890</td>\n",
       "      <td>18.081394</td>\n",
       "      <td>328.648623</td>\n",
       "      <td>2.569189</td>\n",
       "      <td>136.568388</td>\n",
       "      <td>0.593585</td>\n",
       "      <td>0.998560</td>\n",
       "      <td>0.376447</td>\n",
       "      <td>2.192027</td>\n",
       "      <td>1.255421</td>\n",
       "      <td>0.239565</td>\n",
       "      <td>1.892132</td>\n",
       "      <td>0.987592</td>\n",
       "      <td>0.828888</td>\n",
       "      <td>0.584681</td>\n",
       "      <td>36.162789</td>\n",
       "      <td>2.140433</td>\n",
       "      <td>...</td>\n",
       "      <td>139.801813</td>\n",
       "      <td>16.359911</td>\n",
       "      <td>236.828304</td>\n",
       "      <td>0.000634</td>\n",
       "      <td>52.876600</td>\n",
       "      <td>0.000777</td>\n",
       "      <td>0.111960</td>\n",
       "      <td>1.486383</td>\n",
       "      <td>989.764846</td>\n",
       "      <td>4.089545</td>\n",
       "      <td>1436.062004</td>\n",
       "      <td>4968.251857</td>\n",
       "      <td>0.76098</td>\n",
       "      <td>7082.765947</td>\n",
       "      <td>0.668002</td>\n",
       "      <td>0.002617</td>\n",
       "      <td>5.257892</td>\n",
       "      <td>1843.811764</td>\n",
       "      <td>0.548118</td>\n",
       "      <td>192.299328</td>\n",
       "      <td>14826.192470</td>\n",
       "      <td>0.022393</td>\n",
       "      <td>0.404266</td>\n",
       "      <td>561.121038</td>\n",
       "      <td>31.082133</td>\n",
       "      <td>14914.184440</td>\n",
       "      <td>1550.971491</td>\n",
       "      <td>0.106605</td>\n",
       "      <td>8.805621</td>\n",
       "      <td>2.529703e+07</td>\n",
       "      <td>2272.789625</td>\n",
       "      <td>0.661095</td>\n",
       "      <td>0.001646</td>\n",
       "      <td>7.519588</td>\n",
       "      <td>0.001409</td>\n",
       "      <td>0.000621</td>\n",
       "      <td>5263.966268</td>\n",
       "      <td>5.328614</td>\n",
       "      <td>0.016502</td>\n",
       "      <td>0.261644</td>\n",
       "    </tr>\n",
       "  </tbody>\n",
       "</table>\n",
       "<p>2 rows × 852 columns</p>\n",
       "</div>"
      ],
      "text/plain": [
       "    Patient ID  Gender  Age  ...      v840      v841      v842\n",
       "0            1       1   51  ...  8.102155  0.081455  0.065024\n",
       "39          40       1   68  ...  5.328614  0.016502  0.261644\n",
       "\n",
       "[2 rows x 852 columns]"
      ]
     },
     "execution_count": 20,
     "metadata": {
      "tags": []
     },
     "output_type": "execute_result"
    }
   ],
   "source": [
    "data_original[data_original['Patient Status at 3 Year']==-1]"
   ]
  },
  {
   "cell_type": "markdown",
   "metadata": {
    "id": "aiS8fSNjMh70"
   },
   "source": [
    "Consider whether to fill unknown value(-1) in the 'Patient Status at 3 Year' column with the above conclusion.\n",
    "\n",
    "But in this case, the unknown values may be caused by various reasons such as loss follow up or any dropout."
   ]
  },
  {
   "cell_type": "markdown",
   "metadata": {
    "id": "wQpIjHrIMh70"
   },
   "source": [
    "Then drop the 'time to event' column."
   ]
  },
  {
   "cell_type": "code",
   "execution_count": 21,
   "metadata": {
    "id": "KaiwtALuMh71"
   },
   "outputs": [],
   "source": [
    "data = data.drop('Time to Event',axis=1)"
   ]
  },
  {
   "cell_type": "markdown",
   "metadata": {
    "id": "K1o6vVhbMh73"
   },
   "source": [
    "**8. Patient status**\n",
    "\n",
    "patient's lastest status 0=alive, 1=dead"
   ]
  },
  {
   "cell_type": "code",
   "execution_count": 22,
   "metadata": {
    "colab": {
     "base_uri": "https://localhost:8080/"
    },
    "id": "EDWbN0TjMh73",
    "outputId": "4e668729-4ed7-46db-9276-16ac8b74b865",
    "scrolled": true
   },
   "outputs": [
    {
     "data": {
      "text/plain": [
       "0    148\n",
       "1     47\n",
       "Name: Patient Status, dtype: int64"
      ]
     },
     "execution_count": 22,
     "metadata": {
      "tags": []
     },
     "output_type": "execute_result"
    }
   ],
   "source": [
    "data['Patient Status'].value_counts()"
   ]
  },
  {
   "cell_type": "markdown",
   "metadata": {
    "id": "E5EIbEumMh76"
   },
   "source": [
    "**10. Feature selection**"
   ]
  },
  {
   "cell_type": "code",
   "execution_count": 23,
   "metadata": {
    "id": "2U0Pv2jDMh76"
   },
   "outputs": [],
   "source": [
    "data_patient = data[['Age', 'Clinical A', 'Clinical B', 'Clinical C',\n",
    "       'Clinical D','Patient Status', 'Patient Status at 3 Year','Gender_1','Gender_2']]"
   ]
  },
  {
   "cell_type": "code",
   "execution_count": 24,
   "metadata": {
    "colab": {
     "base_uri": "https://localhost:8080/",
     "height": 359
    },
    "id": "DA3AKDEVMh79",
    "outputId": "f0add7dc-4321-41e1-d187-18853b833cd5",
    "scrolled": true
   },
   "outputs": [
    {
     "data": {
      "text/html": [
       "<div>\n",
       "<style scoped>\n",
       "    .dataframe tbody tr th:only-of-type {\n",
       "        vertical-align: middle;\n",
       "    }\n",
       "\n",
       "    .dataframe tbody tr th {\n",
       "        vertical-align: top;\n",
       "    }\n",
       "\n",
       "    .dataframe thead th {\n",
       "        text-align: right;\n",
       "    }\n",
       "</style>\n",
       "<table border=\"1\" class=\"dataframe\">\n",
       "  <thead>\n",
       "    <tr style=\"text-align: right;\">\n",
       "      <th></th>\n",
       "      <th>Age</th>\n",
       "      <th>Clinical A</th>\n",
       "      <th>Clinical B</th>\n",
       "      <th>Clinical C</th>\n",
       "      <th>Clinical D</th>\n",
       "      <th>Patient Status</th>\n",
       "      <th>Patient Status at 3 Year</th>\n",
       "      <th>Gender_1</th>\n",
       "      <th>Gender_2</th>\n",
       "    </tr>\n",
       "  </thead>\n",
       "  <tbody>\n",
       "    <tr>\n",
       "      <th>Age</th>\n",
       "      <td>1.000000</td>\n",
       "      <td>0.094495</td>\n",
       "      <td>-0.063859</td>\n",
       "      <td>0.016748</td>\n",
       "      <td>0.071616</td>\n",
       "      <td>0.247507</td>\n",
       "      <td>0.266660</td>\n",
       "      <td>0.156601</td>\n",
       "      <td>-0.156601</td>\n",
       "    </tr>\n",
       "    <tr>\n",
       "      <th>Clinical A</th>\n",
       "      <td>0.094495</td>\n",
       "      <td>1.000000</td>\n",
       "      <td>-0.061590</td>\n",
       "      <td>0.492176</td>\n",
       "      <td>0.110167</td>\n",
       "      <td>0.280497</td>\n",
       "      <td>0.253148</td>\n",
       "      <td>0.031593</td>\n",
       "      <td>-0.031593</td>\n",
       "    </tr>\n",
       "    <tr>\n",
       "      <th>Clinical B</th>\n",
       "      <td>-0.063859</td>\n",
       "      <td>-0.061590</td>\n",
       "      <td>1.000000</td>\n",
       "      <td>0.628049</td>\n",
       "      <td>0.234572</td>\n",
       "      <td>0.215609</td>\n",
       "      <td>0.124679</td>\n",
       "      <td>-0.054919</td>\n",
       "      <td>0.054919</td>\n",
       "    </tr>\n",
       "    <tr>\n",
       "      <th>Clinical C</th>\n",
       "      <td>0.016748</td>\n",
       "      <td>0.492176</td>\n",
       "      <td>0.628049</td>\n",
       "      <td>1.000000</td>\n",
       "      <td>0.175821</td>\n",
       "      <td>0.328183</td>\n",
       "      <td>0.271401</td>\n",
       "      <td>0.004706</td>\n",
       "      <td>-0.004706</td>\n",
       "    </tr>\n",
       "    <tr>\n",
       "      <th>Clinical D</th>\n",
       "      <td>0.071616</td>\n",
       "      <td>0.110167</td>\n",
       "      <td>0.234572</td>\n",
       "      <td>0.175821</td>\n",
       "      <td>1.000000</td>\n",
       "      <td>0.226877</td>\n",
       "      <td>0.155365</td>\n",
       "      <td>-0.024167</td>\n",
       "      <td>0.024167</td>\n",
       "    </tr>\n",
       "    <tr>\n",
       "      <th>Patient Status</th>\n",
       "      <td>0.247507</td>\n",
       "      <td>0.280497</td>\n",
       "      <td>0.215609</td>\n",
       "      <td>0.328183</td>\n",
       "      <td>0.226877</td>\n",
       "      <td>1.000000</td>\n",
       "      <td>0.771509</td>\n",
       "      <td>0.055378</td>\n",
       "      <td>-0.055378</td>\n",
       "    </tr>\n",
       "    <tr>\n",
       "      <th>Patient Status at 3 Year</th>\n",
       "      <td>0.266660</td>\n",
       "      <td>0.253148</td>\n",
       "      <td>0.124679</td>\n",
       "      <td>0.271401</td>\n",
       "      <td>0.155365</td>\n",
       "      <td>0.771509</td>\n",
       "      <td>1.000000</td>\n",
       "      <td>0.086662</td>\n",
       "      <td>-0.086662</td>\n",
       "    </tr>\n",
       "    <tr>\n",
       "      <th>Gender_1</th>\n",
       "      <td>0.156601</td>\n",
       "      <td>0.031593</td>\n",
       "      <td>-0.054919</td>\n",
       "      <td>0.004706</td>\n",
       "      <td>-0.024167</td>\n",
       "      <td>0.055378</td>\n",
       "      <td>0.086662</td>\n",
       "      <td>1.000000</td>\n",
       "      <td>-1.000000</td>\n",
       "    </tr>\n",
       "    <tr>\n",
       "      <th>Gender_2</th>\n",
       "      <td>-0.156601</td>\n",
       "      <td>-0.031593</td>\n",
       "      <td>0.054919</td>\n",
       "      <td>-0.004706</td>\n",
       "      <td>0.024167</td>\n",
       "      <td>-0.055378</td>\n",
       "      <td>-0.086662</td>\n",
       "      <td>-1.000000</td>\n",
       "      <td>1.000000</td>\n",
       "    </tr>\n",
       "  </tbody>\n",
       "</table>\n",
       "</div>"
      ],
      "text/plain": [
       "                               Age  Clinical A  ...  Gender_1  Gender_2\n",
       "Age                       1.000000    0.094495  ...  0.156601 -0.156601\n",
       "Clinical A                0.094495    1.000000  ...  0.031593 -0.031593\n",
       "Clinical B               -0.063859   -0.061590  ... -0.054919  0.054919\n",
       "Clinical C                0.016748    0.492176  ...  0.004706 -0.004706\n",
       "Clinical D                0.071616    0.110167  ... -0.024167  0.024167\n",
       "Patient Status            0.247507    0.280497  ...  0.055378 -0.055378\n",
       "Patient Status at 3 Year  0.266660    0.253148  ...  0.086662 -0.086662\n",
       "Gender_1                  0.156601    0.031593  ...  1.000000 -1.000000\n",
       "Gender_2                 -0.156601   -0.031593  ... -1.000000  1.000000\n",
       "\n",
       "[9 rows x 9 columns]"
      ]
     },
     "execution_count": 24,
     "metadata": {
      "tags": []
     },
     "output_type": "execute_result"
    }
   ],
   "source": [
    "data_patient.corr()"
   ]
  },
  {
   "cell_type": "code",
   "execution_count": 25,
   "metadata": {
    "colab": {
     "base_uri": "https://localhost:8080/",
     "height": 593
    },
    "id": "NpWuKKdnMh8A",
    "outputId": "3a609307-9cd2-4911-c3a5-e56390f50bb5"
   },
   "outputs": [
    {
     "data": {
      "image/png": "[encoded data removed]",
      "text/plain": [
       "<Figure size 864x576 with 2 Axes>"
      ]
     },
     "metadata": {
      "needs_background": "light",
      "tags": []
     },
     "output_type": "display_data"
    }
   ],
   "source": [
    "plt.figure(figsize=(12,8))\n",
    "sns.heatmap(data_patient.corr(),annot=True,cmap='viridis')\n",
    "b, t = plt.ylim()\n",
    "b += 0.5 \n",
    "t -= 0.5\n",
    "plt.ylim(b, t)\n",
    "plt.show()"
   ]
  },
  {
   "cell_type": "markdown",
   "metadata": {
    "id": "zmCLQKmUMh8C"
   },
   "source": [
    "**10.1) 'Patient Status' and 'Patient Status at 3 year'**\n",
    "\n",
    "    -There is collinearity between two features\n",
    "    \n",
    "    -'Patient Status' indicates the latest status of the patient. \n",
    "    If it was collected before 3 years, we need to use the status at 3 years.\n",
    "    And if it was collected after 3 years, it cannot use in the model, which only predicts status at 3 years. But it can use in other post hoc analysis instead.\n",
    "    \n",
    "    - So, drop the 'Patient Status' column."
   ]
  },
  {
   "cell_type": "code",
   "execution_count": 26,
   "metadata": {
    "id": "mix8d5_oMh8C"
   },
   "outputs": [],
   "source": [
    "data_patient = data_patient.drop('Patient Status',axis=1)\n",
    "data = data.drop('Patient Status',axis=1)"
   ]
  },
  {
   "cell_type": "markdown",
   "metadata": {
    "id": "YFcq0NuQMh8E"
   },
   "source": [
    "**10.2) Drop Gender column**\n",
    "\n",
    "The correlation between 'gender' and 'Patient Status at 3 Year' is very low compare to other features.\n",
    "\n",
    "So, drop 'Gender_1' and 'Gender_2' columns."
   ]
  },
  {
   "cell_type": "code",
   "execution_count": 27,
   "metadata": {
    "id": "E4HbjV0TMh8F"
   },
   "outputs": [],
   "source": [
    "data_patient = data_patient.drop(['Gender_1', 'Gender_2'],axis=1)\n",
    "data = data.drop(['Gender_1', 'Gender_2'],axis=1)"
   ]
  },
  {
   "cell_type": "markdown",
   "metadata": {
    "id": "OMxp6ygNMh8H"
   },
   "source": [
    "**10.3) drop 'Patient ID' column**"
   ]
  },
  {
   "cell_type": "code",
   "execution_count": 28,
   "metadata": {
    "id": "VQvdId5sMh8H"
   },
   "outputs": [],
   "source": [
    "data = data.drop('Patient ID', axis=1)"
   ]
  },
  {
   "cell_type": "code",
   "execution_count": 29,
   "metadata": {
    "colab": {
     "base_uri": "https://localhost:8080/",
     "height": 487
    },
    "id": "iFT1HsgKMh8K",
    "outputId": "302326d3-7dd9-4afa-bf53-9760b30990d2"
   },
   "outputs": [
    {
     "data": {
      "text/html": [
       "<div>\n",
       "<style scoped>\n",
       "    .dataframe tbody tr th:only-of-type {\n",
       "        vertical-align: middle;\n",
       "    }\n",
       "\n",
       "    .dataframe tbody tr th {\n",
       "        vertical-align: top;\n",
       "    }\n",
       "\n",
       "    .dataframe thead th {\n",
       "        text-align: right;\n",
       "    }\n",
       "</style>\n",
       "<table border=\"1\" class=\"dataframe\">\n",
       "  <thead>\n",
       "    <tr style=\"text-align: right;\">\n",
       "      <th></th>\n",
       "      <th>Age</th>\n",
       "      <th>Clinical A</th>\n",
       "      <th>Clinical B</th>\n",
       "      <th>Clinical C</th>\n",
       "      <th>Clinical D</th>\n",
       "      <th>Patient Status at 3 Year</th>\n",
       "      <th>v1</th>\n",
       "      <th>v2</th>\n",
       "      <th>v3</th>\n",
       "      <th>v4</th>\n",
       "      <th>v5</th>\n",
       "      <th>v6</th>\n",
       "      <th>v7</th>\n",
       "      <th>v8</th>\n",
       "      <th>v9</th>\n",
       "      <th>v10</th>\n",
       "      <th>v11</th>\n",
       "      <th>v12</th>\n",
       "      <th>v13</th>\n",
       "      <th>v14</th>\n",
       "      <th>v15</th>\n",
       "      <th>v16</th>\n",
       "      <th>v17</th>\n",
       "      <th>v18</th>\n",
       "      <th>v19</th>\n",
       "      <th>v20</th>\n",
       "      <th>v21</th>\n",
       "      <th>v22</th>\n",
       "      <th>v23</th>\n",
       "      <th>v24</th>\n",
       "      <th>v25</th>\n",
       "      <th>v26</th>\n",
       "      <th>v27</th>\n",
       "      <th>v28</th>\n",
       "      <th>v29</th>\n",
       "      <th>v30</th>\n",
       "      <th>v31</th>\n",
       "      <th>v32</th>\n",
       "      <th>v33</th>\n",
       "      <th>v34</th>\n",
       "      <th>...</th>\n",
       "      <th>v803</th>\n",
       "      <th>v804</th>\n",
       "      <th>v805</th>\n",
       "      <th>v806</th>\n",
       "      <th>v807</th>\n",
       "      <th>v808</th>\n",
       "      <th>v809</th>\n",
       "      <th>v810</th>\n",
       "      <th>v811</th>\n",
       "      <th>v812</th>\n",
       "      <th>v813</th>\n",
       "      <th>v814</th>\n",
       "      <th>v815</th>\n",
       "      <th>v816</th>\n",
       "      <th>v817</th>\n",
       "      <th>v818</th>\n",
       "      <th>v819</th>\n",
       "      <th>v820</th>\n",
       "      <th>v821</th>\n",
       "      <th>v822</th>\n",
       "      <th>v823</th>\n",
       "      <th>v824</th>\n",
       "      <th>v825</th>\n",
       "      <th>v826</th>\n",
       "      <th>v827</th>\n",
       "      <th>v828</th>\n",
       "      <th>v829</th>\n",
       "      <th>v830</th>\n",
       "      <th>v831</th>\n",
       "      <th>v832</th>\n",
       "      <th>v833</th>\n",
       "      <th>v834</th>\n",
       "      <th>v835</th>\n",
       "      <th>v836</th>\n",
       "      <th>v837</th>\n",
       "      <th>v838</th>\n",
       "      <th>v839</th>\n",
       "      <th>v840</th>\n",
       "      <th>v841</th>\n",
       "      <th>v842</th>\n",
       "    </tr>\n",
       "  </thead>\n",
       "  <tbody>\n",
       "    <tr>\n",
       "      <th>1</th>\n",
       "      <td>52</td>\n",
       "      <td>2</td>\n",
       "      <td>1</td>\n",
       "      <td>2</td>\n",
       "      <td>0</td>\n",
       "      <td>0</td>\n",
       "      <td>6842.25</td>\n",
       "      <td>35.032128</td>\n",
       "      <td>6802.21875</td>\n",
       "      <td>27.775745</td>\n",
       "      <td>0.667503</td>\n",
       "      <td>16.786691</td>\n",
       "      <td>0.829787</td>\n",
       "      <td>0.382367</td>\n",
       "      <td>30.364453</td>\n",
       "      <td>0.604365</td>\n",
       "      <td>2600.946480</td>\n",
       "      <td>23.047963</td>\n",
       "      <td>32.649655</td>\n",
       "      <td>29.347061</td>\n",
       "      <td>27.452409</td>\n",
       "      <td>759.734301</td>\n",
       "      <td>5.092622</td>\n",
       "      <td>246.792298</td>\n",
       "      <td>0.239096</td>\n",
       "      <td>0.997215</td>\n",
       "      <td>0.092184</td>\n",
       "      <td>6.056192</td>\n",
       "      <td>2.154275</td>\n",
       "      <td>0.332367</td>\n",
       "      <td>3.976414</td>\n",
       "      <td>0.973557</td>\n",
       "      <td>0.626258</td>\n",
       "      <td>0.647423</td>\n",
       "      <td>54.904818</td>\n",
       "      <td>3.663043</td>\n",
       "      <td>9.127226</td>\n",
       "      <td>13126.587010</td>\n",
       "      <td>0.794044</td>\n",
       "      <td>-0.246191</td>\n",
       "      <td>...</td>\n",
       "      <td>59.601434</td>\n",
       "      <td>10.294197</td>\n",
       "      <td>267.875197</td>\n",
       "      <td>0.000332</td>\n",
       "      <td>116.841945</td>\n",
       "      <td>0.000358</td>\n",
       "      <td>0.061652</td>\n",
       "      <td>0.690946</td>\n",
       "      <td>458.755487</td>\n",
       "      <td>2.384731</td>\n",
       "      <td>4633.865247</td>\n",
       "      <td>5405.186719</td>\n",
       "      <td>0.867291</td>\n",
       "      <td>12346.754650</td>\n",
       "      <td>0.802739</td>\n",
       "      <td>0.000634</td>\n",
       "      <td>5.628355</td>\n",
       "      <td>5309.837402</td>\n",
       "      <td>0.719543</td>\n",
       "      <td>329.335781</td>\n",
       "      <td>2302.858560</td>\n",
       "      <td>0.017044</td>\n",
       "      <td>0.442014</td>\n",
       "      <td>756.727804</td>\n",
       "      <td>29.178738</td>\n",
       "      <td>2331.255257</td>\n",
       "      <td>3908.978176</td>\n",
       "      <td>0.187658</td>\n",
       "      <td>0.464951</td>\n",
       "      <td>1.171983e+07</td>\n",
       "      <td>5707.741822</td>\n",
       "      <td>0.691453</td>\n",
       "      <td>0.000859</td>\n",
       "      <td>7.755168</td>\n",
       "      <td>0.000796</td>\n",
       "      <td>0.001142</td>\n",
       "      <td>12788.77732</td>\n",
       "      <td>10.510535</td>\n",
       "      <td>0.042781</td>\n",
       "      <td>0.070754</td>\n",
       "    </tr>\n",
       "    <tr>\n",
       "      <th>2</th>\n",
       "      <td>39</td>\n",
       "      <td>1</td>\n",
       "      <td>1</td>\n",
       "      <td>2</td>\n",
       "      <td>0</td>\n",
       "      <td>0</td>\n",
       "      <td>2848.50</td>\n",
       "      <td>34.165041</td>\n",
       "      <td>2819.28125</td>\n",
       "      <td>30.180383</td>\n",
       "      <td>0.578099</td>\n",
       "      <td>9.798949</td>\n",
       "      <td>0.600774</td>\n",
       "      <td>0.592156</td>\n",
       "      <td>29.841247</td>\n",
       "      <td>0.324679</td>\n",
       "      <td>1669.453144</td>\n",
       "      <td>18.131597</td>\n",
       "      <td>32.649655</td>\n",
       "      <td>21.914607</td>\n",
       "      <td>24.523139</td>\n",
       "      <td>605.625647</td>\n",
       "      <td>4.999862</td>\n",
       "      <td>-132.612668</td>\n",
       "      <td>0.196246</td>\n",
       "      <td>0.995141</td>\n",
       "      <td>0.087231</td>\n",
       "      <td>8.602972</td>\n",
       "      <td>2.358950</td>\n",
       "      <td>0.360389</td>\n",
       "      <td>5.519779</td>\n",
       "      <td>0.964502</td>\n",
       "      <td>0.566132</td>\n",
       "      <td>0.487469</td>\n",
       "      <td>49.046277</td>\n",
       "      <td>3.586758</td>\n",
       "      <td>8.539954</td>\n",
       "      <td>9969.580376</td>\n",
       "      <td>0.751839</td>\n",
       "      <td>-0.213485</td>\n",
       "      <td>...</td>\n",
       "      <td>-29.468080</td>\n",
       "      <td>8.754108</td>\n",
       "      <td>193.885955</td>\n",
       "      <td>0.000655</td>\n",
       "      <td>119.840146</td>\n",
       "      <td>0.000686</td>\n",
       "      <td>0.065834</td>\n",
       "      <td>0.477533</td>\n",
       "      <td>209.973936</td>\n",
       "      <td>2.023957</td>\n",
       "      <td>3450.891532</td>\n",
       "      <td>2400.495948</td>\n",
       "      <td>0.883697</td>\n",
       "      <td>7823.888272</td>\n",
       "      <td>0.827946</td>\n",
       "      <td>0.000959</td>\n",
       "      <td>5.497215</td>\n",
       "      <td>3899.360310</td>\n",
       "      <td>0.749124</td>\n",
       "      <td>265.955210</td>\n",
       "      <td>647.870316</td>\n",
       "      <td>0.019758</td>\n",
       "      <td>0.501534</td>\n",
       "      <td>509.057143</td>\n",
       "      <td>20.054187</td>\n",
       "      <td>661.871921</td>\n",
       "      <td>2607.817548</td>\n",
       "      <td>0.267246</td>\n",
       "      <td>0.176926</td>\n",
       "      <td>2.498842e+06</td>\n",
       "      <td>3735.571429</td>\n",
       "      <td>0.735593</td>\n",
       "      <td>0.001540</td>\n",
       "      <td>7.250617</td>\n",
       "      <td>0.001460</td>\n",
       "      <td>0.002040</td>\n",
       "      <td>10151.40325</td>\n",
       "      <td>12.556235</td>\n",
       "      <td>0.085777</td>\n",
       "      <td>0.059948</td>\n",
       "    </tr>\n",
       "    <tr>\n",
       "      <th>3</th>\n",
       "      <td>47</td>\n",
       "      <td>1</td>\n",
       "      <td>1</td>\n",
       "      <td>2</td>\n",
       "      <td>0</td>\n",
       "      <td>0</td>\n",
       "      <td>5865.00</td>\n",
       "      <td>39.843444</td>\n",
       "      <td>5808.87500</td>\n",
       "      <td>41.437198</td>\n",
       "      <td>0.488177</td>\n",
       "      <td>14.385234</td>\n",
       "      <td>0.525354</td>\n",
       "      <td>0.551074</td>\n",
       "      <td>38.160844</td>\n",
       "      <td>0.347157</td>\n",
       "      <td>3201.118401</td>\n",
       "      <td>21.769182</td>\n",
       "      <td>39.537956</td>\n",
       "      <td>24.698178</td>\n",
       "      <td>31.956314</td>\n",
       "      <td>1037.987452</td>\n",
       "      <td>4.399902</td>\n",
       "      <td>-2758.353542</td>\n",
       "      <td>0.370060</td>\n",
       "      <td>0.994560</td>\n",
       "      <td>0.174157</td>\n",
       "      <td>14.748448</td>\n",
       "      <td>2.155423</td>\n",
       "      <td>0.326782</td>\n",
       "      <td>12.066336</td>\n",
       "      <td>0.972825</td>\n",
       "      <td>0.667424</td>\n",
       "      <td>0.680754</td>\n",
       "      <td>63.912628</td>\n",
       "      <td>3.324637</td>\n",
       "      <td>24.151920</td>\n",
       "      <td>125211.120800</td>\n",
       "      <td>0.780261</td>\n",
       "      <td>-0.231255</td>\n",
       "      <td>...</td>\n",
       "      <td>-349.836549</td>\n",
       "      <td>14.323542</td>\n",
       "      <td>28.309243</td>\n",
       "      <td>0.000717</td>\n",
       "      <td>298.528870</td>\n",
       "      <td>0.000748</td>\n",
       "      <td>0.074021</td>\n",
       "      <td>0.723785</td>\n",
       "      <td>460.435317</td>\n",
       "      <td>2.467599</td>\n",
       "      <td>7142.130550</td>\n",
       "      <td>4367.559648</td>\n",
       "      <td>0.858010</td>\n",
       "      <td>21807.555660</td>\n",
       "      <td>0.782048</td>\n",
       "      <td>0.000976</td>\n",
       "      <td>5.684309</td>\n",
       "      <td>8432.939350</td>\n",
       "      <td>0.700629</td>\n",
       "      <td>634.119546</td>\n",
       "      <td>1260.606475</td>\n",
       "      <td>0.015694</td>\n",
       "      <td>0.560344</td>\n",
       "      <td>1118.445892</td>\n",
       "      <td>31.325651</td>\n",
       "      <td>1275.955912</td>\n",
       "      <td>5266.740560</td>\n",
       "      <td>0.255243</td>\n",
       "      <td>0.143694</td>\n",
       "      <td>1.161534e+07</td>\n",
       "      <td>7189.520541</td>\n",
       "      <td>0.775392</td>\n",
       "      <td>0.001576</td>\n",
       "      <td>7.601097</td>\n",
       "      <td>0.001290</td>\n",
       "      <td>0.001179</td>\n",
       "      <td>24152.97811</td>\n",
       "      <td>25.953500</td>\n",
       "      <td>0.082586</td>\n",
       "      <td>0.040302</td>\n",
       "    </tr>\n",
       "    <tr>\n",
       "      <th>4</th>\n",
       "      <td>43</td>\n",
       "      <td>2</td>\n",
       "      <td>1</td>\n",
       "      <td>2</td>\n",
       "      <td>0</td>\n",
       "      <td>0</td>\n",
       "      <td>3104.25</td>\n",
       "      <td>39.651608</td>\n",
       "      <td>3065.87500</td>\n",
       "      <td>43.267747</td>\n",
       "      <td>0.516445</td>\n",
       "      <td>9.769965</td>\n",
       "      <td>0.394624</td>\n",
       "      <td>0.644578</td>\n",
       "      <td>38.762095</td>\n",
       "      <td>0.225802</td>\n",
       "      <td>1976.195692</td>\n",
       "      <td>17.074505</td>\n",
       "      <td>39.051248</td>\n",
       "      <td>18.027756</td>\n",
       "      <td>31.533454</td>\n",
       "      <td>1004.096184</td>\n",
       "      <td>4.874239</td>\n",
       "      <td>-1213.365238</td>\n",
       "      <td>0.187202</td>\n",
       "      <td>0.996089</td>\n",
       "      <td>0.094152</td>\n",
       "      <td>9.523002</td>\n",
       "      <td>2.303011</td>\n",
       "      <td>0.356399</td>\n",
       "      <td>6.849702</td>\n",
       "      <td>0.970781</td>\n",
       "      <td>0.595981</td>\n",
       "      <td>0.663384</td>\n",
       "      <td>63.066909</td>\n",
       "      <td>3.478654</td>\n",
       "      <td>14.491821</td>\n",
       "      <td>44730.738280</td>\n",
       "      <td>0.790444</td>\n",
       "      <td>-0.227715</td>\n",
       "      <td>...</td>\n",
       "      <td>-197.810632</td>\n",
       "      <td>13.393662</td>\n",
       "      <td>112.686716</td>\n",
       "      <td>0.000612</td>\n",
       "      <td>204.116138</td>\n",
       "      <td>0.000636</td>\n",
       "      <td>0.063036</td>\n",
       "      <td>0.590316</td>\n",
       "      <td>206.159361</td>\n",
       "      <td>2.303556</td>\n",
       "      <td>6651.433706</td>\n",
       "      <td>2260.097897</td>\n",
       "      <td>0.852286</td>\n",
       "      <td>18431.933430</td>\n",
       "      <td>0.781738</td>\n",
       "      <td>0.000821</td>\n",
       "      <td>5.772426</td>\n",
       "      <td>7849.138022</td>\n",
       "      <td>0.688383</td>\n",
       "      <td>461.578858</td>\n",
       "      <td>700.344825</td>\n",
       "      <td>0.016929</td>\n",
       "      <td>0.531189</td>\n",
       "      <td>561.998110</td>\n",
       "      <td>17.911153</td>\n",
       "      <td>715.649338</td>\n",
       "      <td>5174.824621</td>\n",
       "      <td>0.255617</td>\n",
       "      <td>0.090587</td>\n",
       "      <td>5.788522e+06</td>\n",
       "      <td>7122.637996</td>\n",
       "      <td>0.756142</td>\n",
       "      <td>0.001447</td>\n",
       "      <td>7.450933</td>\n",
       "      <td>0.001233</td>\n",
       "      <td>0.001903</td>\n",
       "      <td>20879.17131</td>\n",
       "      <td>33.389569</td>\n",
       "      <td>0.068150</td>\n",
       "      <td>0.029494</td>\n",
       "    </tr>\n",
       "    <tr>\n",
       "      <th>5</th>\n",
       "      <td>62</td>\n",
       "      <td>1</td>\n",
       "      <td>1</td>\n",
       "      <td>2</td>\n",
       "      <td>0</td>\n",
       "      <td>0</td>\n",
       "      <td>6067.50</td>\n",
       "      <td>45.069391</td>\n",
       "      <td>6010.34375</td>\n",
       "      <td>38.650843</td>\n",
       "      <td>0.552583</td>\n",
       "      <td>19.572903</td>\n",
       "      <td>0.507500</td>\n",
       "      <td>0.481342</td>\n",
       "      <td>43.732139</td>\n",
       "      <td>0.506403</td>\n",
       "      <td>2893.029211</td>\n",
       "      <td>19.615285</td>\n",
       "      <td>44.102154</td>\n",
       "      <td>27.294688</td>\n",
       "      <td>32.539744</td>\n",
       "      <td>1062.976078</td>\n",
       "      <td>4.307157</td>\n",
       "      <td>11.263909</td>\n",
       "      <td>0.317743</td>\n",
       "      <td>0.997409</td>\n",
       "      <td>0.149914</td>\n",
       "      <td>7.844712</td>\n",
       "      <td>2.071805</td>\n",
       "      <td>0.312191</td>\n",
       "      <td>5.856863</td>\n",
       "      <td>0.978066</td>\n",
       "      <td>0.672814</td>\n",
       "      <td>0.335621</td>\n",
       "      <td>65.079488</td>\n",
       "      <td>3.234887</td>\n",
       "      <td>8.011073</td>\n",
       "      <td>13670.231750</td>\n",
       "      <td>0.721569</td>\n",
       "      <td>-0.228873</td>\n",
       "      <td>...</td>\n",
       "      <td>59.810900</td>\n",
       "      <td>16.415198</td>\n",
       "      <td>210.334523</td>\n",
       "      <td>0.000291</td>\n",
       "      <td>111.477810</td>\n",
       "      <td>0.000310</td>\n",
       "      <td>0.065408</td>\n",
       "      <td>0.973115</td>\n",
       "      <td>411.742083</td>\n",
       "      <td>2.869402</td>\n",
       "      <td>7188.066509</td>\n",
       "      <td>4336.594518</td>\n",
       "      <td>0.845913</td>\n",
       "      <td>23683.036140</td>\n",
       "      <td>0.762271</td>\n",
       "      <td>0.000541</td>\n",
       "      <td>5.641553</td>\n",
       "      <td>8452.369650</td>\n",
       "      <td>0.683347</td>\n",
       "      <td>306.204273</td>\n",
       "      <td>2417.479195</td>\n",
       "      <td>0.019270</td>\n",
       "      <td>0.450915</td>\n",
       "      <td>742.657559</td>\n",
       "      <td>31.738312</td>\n",
       "      <td>2441.606557</td>\n",
       "      <td>5819.932956</td>\n",
       "      <td>0.203585</td>\n",
       "      <td>0.304707</td>\n",
       "      <td>1.961944e+07</td>\n",
       "      <td>8541.849423</td>\n",
       "      <td>0.698297</td>\n",
       "      <td>0.000796</td>\n",
       "      <td>7.606999</td>\n",
       "      <td>0.000751</td>\n",
       "      <td>0.001168</td>\n",
       "      <td>15150.55386</td>\n",
       "      <td>16.920865</td>\n",
       "      <td>0.031949</td>\n",
       "      <td>0.048515</td>\n",
       "    </tr>\n",
       "    <tr>\n",
       "      <th>...</th>\n",
       "      <td>...</td>\n",
       "      <td>...</td>\n",
       "      <td>...</td>\n",
       "      <td>...</td>\n",
       "      <td>...</td>\n",
       "      <td>...</td>\n",
       "      <td>...</td>\n",
       "      <td>...</td>\n",
       "      <td>...</td>\n",
       "      <td>...</td>\n",
       "      <td>...</td>\n",
       "      <td>...</td>\n",
       "      <td>...</td>\n",
       "      <td>...</td>\n",
       "      <td>...</td>\n",
       "      <td>...</td>\n",
       "      <td>...</td>\n",
       "      <td>...</td>\n",
       "      <td>...</td>\n",
       "      <td>...</td>\n",
       "      <td>...</td>\n",
       "      <td>...</td>\n",
       "      <td>...</td>\n",
       "      <td>...</td>\n",
       "      <td>...</td>\n",
       "      <td>...</td>\n",
       "      <td>...</td>\n",
       "      <td>...</td>\n",
       "      <td>...</td>\n",
       "      <td>...</td>\n",
       "      <td>...</td>\n",
       "      <td>...</td>\n",
       "      <td>...</td>\n",
       "      <td>...</td>\n",
       "      <td>...</td>\n",
       "      <td>...</td>\n",
       "      <td>...</td>\n",
       "      <td>...</td>\n",
       "      <td>...</td>\n",
       "      <td>...</td>\n",
       "      <td>...</td>\n",
       "      <td>...</td>\n",
       "      <td>...</td>\n",
       "      <td>...</td>\n",
       "      <td>...</td>\n",
       "      <td>...</td>\n",
       "      <td>...</td>\n",
       "      <td>...</td>\n",
       "      <td>...</td>\n",
       "      <td>...</td>\n",
       "      <td>...</td>\n",
       "      <td>...</td>\n",
       "      <td>...</td>\n",
       "      <td>...</td>\n",
       "      <td>...</td>\n",
       "      <td>...</td>\n",
       "      <td>...</td>\n",
       "      <td>...</td>\n",
       "      <td>...</td>\n",
       "      <td>...</td>\n",
       "      <td>...</td>\n",
       "      <td>...</td>\n",
       "      <td>...</td>\n",
       "      <td>...</td>\n",
       "      <td>...</td>\n",
       "      <td>...</td>\n",
       "      <td>...</td>\n",
       "      <td>...</td>\n",
       "      <td>...</td>\n",
       "      <td>...</td>\n",
       "      <td>...</td>\n",
       "      <td>...</td>\n",
       "      <td>...</td>\n",
       "      <td>...</td>\n",
       "      <td>...</td>\n",
       "      <td>...</td>\n",
       "      <td>...</td>\n",
       "      <td>...</td>\n",
       "      <td>...</td>\n",
       "      <td>...</td>\n",
       "      <td>...</td>\n",
       "    </tr>\n",
       "    <tr>\n",
       "      <th>192</th>\n",
       "      <td>61</td>\n",
       "      <td>1</td>\n",
       "      <td>2</td>\n",
       "      <td>3</td>\n",
       "      <td>2400</td>\n",
       "      <td>0</td>\n",
       "      <td>7785.00</td>\n",
       "      <td>44.601009</td>\n",
       "      <td>7733.25000</td>\n",
       "      <td>41.466223</td>\n",
       "      <td>0.570267</td>\n",
       "      <td>16.851565</td>\n",
       "      <td>0.506987</td>\n",
       "      <td>0.428830</td>\n",
       "      <td>43.786413</td>\n",
       "      <td>0.406393</td>\n",
       "      <td>3316.248409</td>\n",
       "      <td>21.022830</td>\n",
       "      <td>44.421279</td>\n",
       "      <td>27.280946</td>\n",
       "      <td>33.871004</td>\n",
       "      <td>1165.947496</td>\n",
       "      <td>8.107177</td>\n",
       "      <td>319.547412</td>\n",
       "      <td>0.108359</td>\n",
       "      <td>0.987147</td>\n",
       "      <td>0.019431</td>\n",
       "      <td>59.379145</td>\n",
       "      <td>3.568789</td>\n",
       "      <td>0.250574</td>\n",
       "      <td>32.044604</td>\n",
       "      <td>0.938680</td>\n",
       "      <td>0.359215</td>\n",
       "      <td>0.370997</td>\n",
       "      <td>67.742008</td>\n",
       "      <td>5.229321</td>\n",
       "      <td>48.350443</td>\n",
       "      <td>99160.039210</td>\n",
       "      <td>0.832400</td>\n",
       "      <td>-0.203703</td>\n",
       "      <td>...</td>\n",
       "      <td>-493.232961</td>\n",
       "      <td>4.337603</td>\n",
       "      <td>312.187475</td>\n",
       "      <td>0.000363</td>\n",
       "      <td>405.840170</td>\n",
       "      <td>0.000378</td>\n",
       "      <td>0.020480</td>\n",
       "      <td>0.221575</td>\n",
       "      <td>195.855146</td>\n",
       "      <td>1.452756</td>\n",
       "      <td>8327.903825</td>\n",
       "      <td>8331.894260</td>\n",
       "      <td>0.944473</td>\n",
       "      <td>12350.746950</td>\n",
       "      <td>0.912769</td>\n",
       "      <td>0.000468</td>\n",
       "      <td>6.528427</td>\n",
       "      <td>8780.058561</td>\n",
       "      <td>0.871523</td>\n",
       "      <td>569.949247</td>\n",
       "      <td>84.534684</td>\n",
       "      <td>0.012444</td>\n",
       "      <td>0.535377</td>\n",
       "      <td>2634.588701</td>\n",
       "      <td>61.238569</td>\n",
       "      <td>88.983946</td>\n",
       "      <td>6711.675397</td>\n",
       "      <td>0.474085</td>\n",
       "      <td>0.013046</td>\n",
       "      <td>6.595259e+05</td>\n",
       "      <td>8963.726072</td>\n",
       "      <td>0.759857</td>\n",
       "      <td>0.000415</td>\n",
       "      <td>7.919451</td>\n",
       "      <td>0.000230</td>\n",
       "      <td>0.000888</td>\n",
       "      <td>103670.02650</td>\n",
       "      <td>8.613317</td>\n",
       "      <td>0.276005</td>\n",
       "      <td>0.055503</td>\n",
       "    </tr>\n",
       "    <tr>\n",
       "      <th>193</th>\n",
       "      <td>51</td>\n",
       "      <td>2</td>\n",
       "      <td>2</td>\n",
       "      <td>3</td>\n",
       "      <td>2410</td>\n",
       "      <td>1</td>\n",
       "      <td>33892.50</td>\n",
       "      <td>61.092144</td>\n",
       "      <td>33822.87500</td>\n",
       "      <td>51.242295</td>\n",
       "      <td>0.550113</td>\n",
       "      <td>27.027583</td>\n",
       "      <td>0.870810</td>\n",
       "      <td>0.271829</td>\n",
       "      <td>61.092144</td>\n",
       "      <td>0.527447</td>\n",
       "      <td>9194.032499</td>\n",
       "      <td>44.622300</td>\n",
       "      <td>59.718088</td>\n",
       "      <td>51.722819</td>\n",
       "      <td>36.802994</td>\n",
       "      <td>1384.679860</td>\n",
       "      <td>6.952705</td>\n",
       "      <td>-86.207083</td>\n",
       "      <td>0.159781</td>\n",
       "      <td>0.996250</td>\n",
       "      <td>0.043591</td>\n",
       "      <td>22.574007</td>\n",
       "      <td>2.815782</td>\n",
       "      <td>0.294622</td>\n",
       "      <td>14.952395</td>\n",
       "      <td>0.970179</td>\n",
       "      <td>0.525797</td>\n",
       "      <td>0.718612</td>\n",
       "      <td>73.605988</td>\n",
       "      <td>4.920466</td>\n",
       "      <td>41.487193</td>\n",
       "      <td>169588.404600</td>\n",
       "      <td>0.900626</td>\n",
       "      <td>-0.275825</td>\n",
       "      <td>...</td>\n",
       "      <td>109.934755</td>\n",
       "      <td>8.368649</td>\n",
       "      <td>456.663073</td>\n",
       "      <td>0.000175</td>\n",
       "      <td>377.694251</td>\n",
       "      <td>0.000190</td>\n",
       "      <td>0.028829</td>\n",
       "      <td>0.677033</td>\n",
       "      <td>1080.537034</td>\n",
       "      <td>2.242588</td>\n",
       "      <td>9703.612375</td>\n",
       "      <td>28362.809840</td>\n",
       "      <td>0.889191</td>\n",
       "      <td>22156.120700</td>\n",
       "      <td>0.817778</td>\n",
       "      <td>0.000352</td>\n",
       "      <td>6.539935</td>\n",
       "      <td>10758.970560</td>\n",
       "      <td>0.757605</td>\n",
       "      <td>642.492858</td>\n",
       "      <td>3176.860288</td>\n",
       "      <td>0.013387</td>\n",
       "      <td>0.458902</td>\n",
       "      <td>5872.111128</td>\n",
       "      <td>171.295092</td>\n",
       "      <td>3189.332291</td>\n",
       "      <td>8250.885357</td>\n",
       "      <td>0.283160</td>\n",
       "      <td>0.361283</td>\n",
       "      <td>2.836698e+07</td>\n",
       "      <td>11775.628710</td>\n",
       "      <td>0.704453</td>\n",
       "      <td>0.000246</td>\n",
       "      <td>8.306079</td>\n",
       "      <td>0.000200</td>\n",
       "      <td>0.000325</td>\n",
       "      <td>56528.40669</td>\n",
       "      <td>8.138724</td>\n",
       "      <td>0.063704</td>\n",
       "      <td>0.100576</td>\n",
       "    </tr>\n",
       "    <tr>\n",
       "      <th>194</th>\n",
       "      <td>33</td>\n",
       "      <td>2</td>\n",
       "      <td>2</td>\n",
       "      <td>3</td>\n",
       "      <td>2520</td>\n",
       "      <td>0</td>\n",
       "      <td>20587.50</td>\n",
       "      <td>48.228622</td>\n",
       "      <td>20538.28125</td>\n",
       "      <td>35.975658</td>\n",
       "      <td>0.637007</td>\n",
       "      <td>27.409511</td>\n",
       "      <td>0.969375</td>\n",
       "      <td>0.277216</td>\n",
       "      <td>45.124827</td>\n",
       "      <td>0.761890</td>\n",
       "      <td>5693.547982</td>\n",
       "      <td>34.873895</td>\n",
       "      <td>45.024993</td>\n",
       "      <td>44.533695</td>\n",
       "      <td>36.602611</td>\n",
       "      <td>1365.705511</td>\n",
       "      <td>5.971008</td>\n",
       "      <td>1830.298514</td>\n",
       "      <td>0.190180</td>\n",
       "      <td>0.997223</td>\n",
       "      <td>0.079501</td>\n",
       "      <td>15.223946</td>\n",
       "      <td>2.538142</td>\n",
       "      <td>0.310034</td>\n",
       "      <td>10.626761</td>\n",
       "      <td>0.975013</td>\n",
       "      <td>0.588899</td>\n",
       "      <td>0.763378</td>\n",
       "      <td>73.205223</td>\n",
       "      <td>4.368440</td>\n",
       "      <td>33.559264</td>\n",
       "      <td>115614.172100</td>\n",
       "      <td>0.883545</td>\n",
       "      <td>-0.273460</td>\n",
       "      <td>...</td>\n",
       "      <td>151.522037</td>\n",
       "      <td>7.441843</td>\n",
       "      <td>468.604152</td>\n",
       "      <td>0.000161</td>\n",
       "      <td>357.085158</td>\n",
       "      <td>0.000176</td>\n",
       "      <td>0.044232</td>\n",
       "      <td>0.788263</td>\n",
       "      <td>968.369931</td>\n",
       "      <td>2.515007</td>\n",
       "      <td>9471.291508</td>\n",
       "      <td>15483.291820</td>\n",
       "      <td>0.862916</td>\n",
       "      <td>24239.110250</td>\n",
       "      <td>0.783015</td>\n",
       "      <td>0.000349</td>\n",
       "      <td>6.319203</td>\n",
       "      <td>10720.797640</td>\n",
       "      <td>0.708591</td>\n",
       "      <td>679.992101</td>\n",
       "      <td>4903.385443</td>\n",
       "      <td>0.012083</td>\n",
       "      <td>0.514704</td>\n",
       "      <td>3611.161060</td>\n",
       "      <td>84.773945</td>\n",
       "      <td>4918.692987</td>\n",
       "      <td>9573.704775</td>\n",
       "      <td>0.255592</td>\n",
       "      <td>0.561804</td>\n",
       "      <td>4.311451e+07</td>\n",
       "      <td>12731.156070</td>\n",
       "      <td>0.745429</td>\n",
       "      <td>0.000298</td>\n",
       "      <td>8.134648</td>\n",
       "      <td>0.000266</td>\n",
       "      <td>0.000493</td>\n",
       "      <td>44546.08978</td>\n",
       "      <td>14.000084</td>\n",
       "      <td>0.052678</td>\n",
       "      <td>0.068667</td>\n",
       "    </tr>\n",
       "    <tr>\n",
       "      <th>195</th>\n",
       "      <td>18</td>\n",
       "      <td>3</td>\n",
       "      <td>1</td>\n",
       "      <td>3</td>\n",
       "      <td>2590</td>\n",
       "      <td>0</td>\n",
       "      <td>54851.25</td>\n",
       "      <td>69.456821</td>\n",
       "      <td>54746.03125</td>\n",
       "      <td>57.430916</td>\n",
       "      <td>0.596538</td>\n",
       "      <td>36.186442</td>\n",
       "      <td>0.745885</td>\n",
       "      <td>0.213499</td>\n",
       "      <td>62.627869</td>\n",
       "      <td>0.630086</td>\n",
       "      <td>11688.198670</td>\n",
       "      <td>42.836833</td>\n",
       "      <td>63.788714</td>\n",
       "      <td>54.104066</td>\n",
       "      <td>36.798060</td>\n",
       "      <td>1390.453600</td>\n",
       "      <td>6.254141</td>\n",
       "      <td>3555.321644</td>\n",
       "      <td>0.313154</td>\n",
       "      <td>0.993898</td>\n",
       "      <td>0.113273</td>\n",
       "      <td>39.392226</td>\n",
       "      <td>2.877866</td>\n",
       "      <td>0.269187</td>\n",
       "      <td>28.094975</td>\n",
       "      <td>0.965890</td>\n",
       "      <td>0.564611</td>\n",
       "      <td>0.641710</td>\n",
       "      <td>73.596119</td>\n",
       "      <td>4.393818</td>\n",
       "      <td>56.051368</td>\n",
       "      <td>223521.658000</td>\n",
       "      <td>0.825990</td>\n",
       "      <td>-0.226695</td>\n",
       "      <td>...</td>\n",
       "      <td>83.244592</td>\n",
       "      <td>5.822411</td>\n",
       "      <td>462.005928</td>\n",
       "      <td>0.000129</td>\n",
       "      <td>477.635156</td>\n",
       "      <td>0.000143</td>\n",
       "      <td>0.038487</td>\n",
       "      <td>0.897374</td>\n",
       "      <td>2258.812876</td>\n",
       "      <td>2.611297</td>\n",
       "      <td>10624.437830</td>\n",
       "      <td>42134.954790</td>\n",
       "      <td>0.870995</td>\n",
       "      <td>27428.201480</td>\n",
       "      <td>0.785170</td>\n",
       "      <td>0.000315</td>\n",
       "      <td>6.560635</td>\n",
       "      <td>11901.524980</td>\n",
       "      <td>0.723315</td>\n",
       "      <td>770.523906</td>\n",
       "      <td>10869.645820</td>\n",
       "      <td>0.010712</td>\n",
       "      <td>0.523013</td>\n",
       "      <td>11193.529670</td>\n",
       "      <td>229.260723</td>\n",
       "      <td>10881.323100</td>\n",
       "      <td>10483.868930</td>\n",
       "      <td>0.292637</td>\n",
       "      <td>1.154343</td>\n",
       "      <td>1.026266e+08</td>\n",
       "      <td>13844.227030</td>\n",
       "      <td>0.751342</td>\n",
       "      <td>0.000185</td>\n",
       "      <td>8.294538</td>\n",
       "      <td>0.000148</td>\n",
       "      <td>0.000143</td>\n",
       "      <td>83062.97092</td>\n",
       "      <td>5.077000</td>\n",
       "      <td>0.082444</td>\n",
       "      <td>0.205629</td>\n",
       "    </tr>\n",
       "    <tr>\n",
       "      <th>196</th>\n",
       "      <td>42</td>\n",
       "      <td>3</td>\n",
       "      <td>2</td>\n",
       "      <td>3</td>\n",
       "      <td>2770</td>\n",
       "      <td>0</td>\n",
       "      <td>20346.75</td>\n",
       "      <td>58.579006</td>\n",
       "      <td>20289.28125</td>\n",
       "      <td>55.793140</td>\n",
       "      <td>0.589438</td>\n",
       "      <td>22.288621</td>\n",
       "      <td>0.523825</td>\n",
       "      <td>0.300809</td>\n",
       "      <td>55.731499</td>\n",
       "      <td>0.399487</td>\n",
       "      <td>6103.196068</td>\n",
       "      <td>29.225819</td>\n",
       "      <td>57.939624</td>\n",
       "      <td>34.238137</td>\n",
       "      <td>30.474941</td>\n",
       "      <td>938.361534</td>\n",
       "      <td>4.994914</td>\n",
       "      <td>774.861041</td>\n",
       "      <td>0.261437</td>\n",
       "      <td>0.997202</td>\n",
       "      <td>0.110185</td>\n",
       "      <td>9.799949</td>\n",
       "      <td>2.180398</td>\n",
       "      <td>0.335749</td>\n",
       "      <td>7.283173</td>\n",
       "      <td>0.977120</td>\n",
       "      <td>0.646356</td>\n",
       "      <td>0.627325</td>\n",
       "      <td>60.949882</td>\n",
       "      <td>3.657573</td>\n",
       "      <td>14.507776</td>\n",
       "      <td>38132.855640</td>\n",
       "      <td>0.781695</td>\n",
       "      <td>-0.234195</td>\n",
       "      <td>...</td>\n",
       "      <td>84.690547</td>\n",
       "      <td>11.240379</td>\n",
       "      <td>292.568601</td>\n",
       "      <td>0.000249</td>\n",
       "      <td>177.221440</td>\n",
       "      <td>0.000278</td>\n",
       "      <td>0.062606</td>\n",
       "      <td>0.838176</td>\n",
       "      <td>1336.391899</td>\n",
       "      <td>2.662840</td>\n",
       "      <td>5625.982031</td>\n",
       "      <td>14863.163380</td>\n",
       "      <td>0.850504</td>\n",
       "      <td>16102.880940</td>\n",
       "      <td>0.773334</td>\n",
       "      <td>0.000582</td>\n",
       "      <td>5.786452</td>\n",
       "      <td>6498.535834</td>\n",
       "      <td>0.689969</td>\n",
       "      <td>432.148492</td>\n",
       "      <td>8559.730629</td>\n",
       "      <td>0.016135</td>\n",
       "      <td>0.481339</td>\n",
       "      <td>2497.184271</td>\n",
       "      <td>83.708173</td>\n",
       "      <td>8587.074981</td>\n",
       "      <td>5683.863974</td>\n",
       "      <td>0.191234</td>\n",
       "      <td>1.514243</td>\n",
       "      <td>4.875944e+07</td>\n",
       "      <td>7790.468003</td>\n",
       "      <td>0.721257</td>\n",
       "      <td>0.000413</td>\n",
       "      <td>7.902758</td>\n",
       "      <td>0.000224</td>\n",
       "      <td>0.000380</td>\n",
       "      <td>24430.72309</td>\n",
       "      <td>7.107221</td>\n",
       "      <td>0.038191</td>\n",
       "      <td>0.141188</td>\n",
       "    </tr>\n",
       "  </tbody>\n",
       "</table>\n",
       "<p>195 rows × 848 columns</p>\n",
       "</div>"
      ],
      "text/plain": [
       "     Age  Clinical A  Clinical B  ...       v840      v841      v842\n",
       "1     52           2           1  ...  10.510535  0.042781  0.070754\n",
       "2     39           1           1  ...  12.556235  0.085777  0.059948\n",
       "3     47           1           1  ...  25.953500  0.082586  0.040302\n",
       "4     43           2           1  ...  33.389569  0.068150  0.029494\n",
       "5     62           1           1  ...  16.920865  0.031949  0.048515\n",
       "..   ...         ...         ...  ...        ...       ...       ...\n",
       "192   61           1           2  ...   8.613317  0.276005  0.055503\n",
       "193   51           2           2  ...   8.138724  0.063704  0.100576\n",
       "194   33           2           2  ...  14.000084  0.052678  0.068667\n",
       "195   18           3           1  ...   5.077000  0.082444  0.205629\n",
       "196   42           3           2  ...   7.107221  0.038191  0.141188\n",
       "\n",
       "[195 rows x 848 columns]"
      ]
     },
     "execution_count": 29,
     "metadata": {
      "tags": []
     },
     "output_type": "execute_result"
    }
   ],
   "source": [
    "data"
   ]
  },
  {
   "cell_type": "markdown",
   "metadata": {
    "id": "a9t5KjVTMh8M"
   },
   "source": [
    "# Train/Test Split"
   ]
  },
  {
   "cell_type": "code",
   "execution_count": 30,
   "metadata": {
    "id": "93vr-YurMh8M"
   },
   "outputs": [],
   "source": [
    "y = data['Patient Status at 3 Year']\n",
    "X = data.drop('Patient Status at 3 Year',axis=1)"
   ]
  },
  {
   "cell_type": "code",
   "execution_count": 31,
   "metadata": {
    "id": "dQiZu3V4Mh8O"
   },
   "outputs": [],
   "source": [
    "from sklearn.model_selection import train_test_split"
   ]
  },
  {
   "cell_type": "code",
   "execution_count": 32,
   "metadata": {
    "id": "393j_owqMh8Q"
   },
   "outputs": [],
   "source": [
    "X_train, X_test, y_train, y_test = train_test_split(X,y,test_size=0.15,random_state=99,stratify=y)"
   ]
  },
  {
   "cell_type": "code",
   "execution_count": 33,
   "metadata": {
    "colab": {
     "base_uri": "https://localhost:8080/"
    },
    "id": "8qf6oecTMh8T",
    "outputId": "6c4078d9-670f-47e9-e4cb-57286df46bba"
   },
   "outputs": [
    {
     "data": {
      "text/plain": [
       "(165, 847)"
      ]
     },
     "execution_count": 33,
     "metadata": {
      "tags": []
     },
     "output_type": "execute_result"
    }
   ],
   "source": [
    "X_train.shape"
   ]
  },
  {
   "cell_type": "code",
   "execution_count": 34,
   "metadata": {
    "colab": {
     "base_uri": "https://localhost:8080/"
    },
    "id": "zNeWWCahMh8V",
    "outputId": "b5162b40-6f21-48da-a506-1d6b119e75c0"
   },
   "outputs": [
    {
     "data": {
      "text/plain": [
       "(30, 847)"
      ]
     },
     "execution_count": 34,
     "metadata": {
      "tags": []
     },
     "output_type": "execute_result"
    }
   ],
   "source": [
    "X_test.shape"
   ]
  },
  {
   "cell_type": "markdown",
   "metadata": {
    "id": "kkTEIEfXMh8X"
   },
   "source": [
    "# Analysis and Model building #\n",
    "\n",
    "There is the curse of dimensionality problem. I manage this with two steps approach.\n",
    "\n",
    "    1.Dimensionality reduction: PCA\n",
    "\n",
    "    2.Association analysis: neural networks\n",
    "\n",
    "reference : Rizzo S, Botta F, Raimondi S, et al. Radiomics: the facts and the challenges of image analysis. Eur Radiol Exp. 2018;2(1):36. Published 2018 Nov 14. doi:10.1186/s41747-018-0068-z"
   ]
  },
  {
   "cell_type": "markdown",
   "metadata": {
    "id": "PsWCVDlQMh8X"
   },
   "source": [
    "# Dimensional Reduction: PCA\n",
    "\n",
    "Perform PCA with radiomics features."
   ]
  },
  {
   "cell_type": "code",
   "execution_count": 35,
   "metadata": {
    "colab": {
     "base_uri": "https://localhost:8080/"
    },
    "id": "YM6WaAcCMh8Y",
    "outputId": "de611caf-6471-4daf-968e-e28e916126bc"
   },
   "outputs": [
    {
     "data": {
      "text/plain": [
       "Index(['Age', 'Clinical A', 'Clinical B', 'Clinical C', 'Clinical D', 'v1',\n",
       "       'v2', 'v3', 'v4', 'v5',\n",
       "       ...\n",
       "       'v833', 'v834', 'v835', 'v836', 'v837', 'v838', 'v839', 'v840', 'v841',\n",
       "       'v842'],\n",
       "      dtype='object', length=847)"
      ]
     },
     "execution_count": 35,
     "metadata": {
      "tags": []
     },
     "output_type": "execute_result"
    }
   ],
   "source": [
    "X.columns"
   ]
  },
  {
   "cell_type": "code",
   "execution_count": 36,
   "metadata": {
    "id": "SL0GebmCMh8Z"
   },
   "outputs": [],
   "source": [
    "components_train = X_train.drop(['Age', 'Clinical A', 'Clinical B', 'Clinical C',\n",
    "       'Clinical D'],axis=1)\n",
    "\n",
    "components_test = X_test.drop(['Age', 'Clinical A', 'Clinical B', 'Clinical C',\n",
    "       'Clinical D'],axis=1)"
   ]
  },
  {
   "cell_type": "markdown",
   "metadata": {
    "id": "NZvAFZbEMh8b"
   },
   "source": [
    "Perform standard scaler before PCA."
   ]
  },
  {
   "cell_type": "code",
   "execution_count": 37,
   "metadata": {
    "id": "888IikW1Mh8b"
   },
   "outputs": [],
   "source": [
    "from sklearn.preprocessing import StandardScaler"
   ]
  },
  {
   "cell_type": "code",
   "execution_count": 38,
   "metadata": {
    "colab": {
     "base_uri": "https://localhost:8080/"
    },
    "id": "pW6pkhEsMh8d",
    "outputId": "41b96d74-5196-4cfa-e65a-d5d576c5bd01"
   },
   "outputs": [
    {
     "data": {
      "text/plain": [
       "StandardScaler(copy=True, with_mean=True, with_std=True)"
      ]
     },
     "execution_count": 38,
     "metadata": {
      "tags": []
     },
     "output_type": "execute_result"
    }
   ],
   "source": [
    "std_scaler = StandardScaler()\n",
    "std_scaler.fit(components_train)"
   ]
  },
  {
   "cell_type": "code",
   "execution_count": 39,
   "metadata": {
    "id": "W7YJ636ZMh8g"
   },
   "outputs": [],
   "source": [
    "components_train = std_scaler.transform(components_train)\n",
    "components_test = std_scaler.transform(components_test)"
   ]
  },
  {
   "cell_type": "markdown",
   "metadata": {
    "id": "1AW3GvvQMh8i"
   },
   "source": [
    "PCA"
   ]
  },
  {
   "cell_type": "code",
   "execution_count": 40,
   "metadata": {
    "id": "uavaRYURMh8j"
   },
   "outputs": [],
   "source": [
    "from sklearn.decomposition import PCA"
   ]
  },
  {
   "cell_type": "code",
   "execution_count": 41,
   "metadata": {
    "id": "SNl4xTVoMh8m"
   },
   "outputs": [],
   "source": [
    "pca = PCA(n_components=0.95,random_state=99)"
   ]
  },
  {
   "cell_type": "code",
   "execution_count": 42,
   "metadata": {
    "colab": {
     "base_uri": "https://localhost:8080/"
    },
    "id": "pe3-q3EvMh8p",
    "outputId": "d47835e4-4a46-4c9d-bbc2-5286abb854ff"
   },
   "outputs": [
    {
     "data": {
      "text/plain": [
       "PCA(copy=True, iterated_power='auto', n_components=0.95, random_state=99,\n",
       "    svd_solver='auto', tol=0.0, whiten=False)"
      ]
     },
     "execution_count": 42,
     "metadata": {
      "tags": []
     },
     "output_type": "execute_result"
    }
   ],
   "source": [
    "pca.fit(components_train)"
   ]
  },
  {
   "cell_type": "code",
   "execution_count": 43,
   "metadata": {
    "id": "My2bJANvMh8r"
   },
   "outputs": [],
   "source": [
    "xtrain_pca = pca.transform(components_train)\n",
    "xtest_pca = pca.transform(components_test)"
   ]
  },
  {
   "cell_type": "code",
   "execution_count": 44,
   "metadata": {
    "colab": {
     "base_uri": "https://localhost:8080/"
    },
    "id": "lHn5QPAyMh8t",
    "outputId": "d28be67f-16fb-44e1-c259-7eecc1017eef"
   },
   "outputs": [
    {
     "data": {
      "text/plain": [
       "(165, 842)"
      ]
     },
     "execution_count": 44,
     "metadata": {
      "tags": []
     },
     "output_type": "execute_result"
    }
   ],
   "source": [
    "components_train.shape"
   ]
  },
  {
   "cell_type": "code",
   "execution_count": 45,
   "metadata": {
    "colab": {
     "base_uri": "https://localhost:8080/"
    },
    "id": "vksSRMPNMh8u",
    "outputId": "4d4e375d-379f-4d5e-f202-39b1bc2c4e77"
   },
   "outputs": [
    {
     "data": {
      "text/plain": [
       "(165, 37)"
      ]
     },
     "execution_count": 45,
     "metadata": {
      "tags": []
     },
     "output_type": "execute_result"
    }
   ],
   "source": [
    "xtrain_pca.shape"
   ]
  },
  {
   "cell_type": "markdown",
   "metadata": {
    "id": "4QymntgpMh8w"
   },
   "source": [
    "Scale other columns"
   ]
  },
  {
   "cell_type": "code",
   "execution_count": 46,
   "metadata": {
    "id": "t5XkPgEyMh8w"
   },
   "outputs": [],
   "source": [
    "from sklearn.preprocessing import MinMaxScaler"
   ]
  },
  {
   "cell_type": "code",
   "execution_count": 47,
   "metadata": {
    "id": "16OuL4aHMh8z"
   },
   "outputs": [],
   "source": [
    "scaler = MinMaxScaler()"
   ]
  },
  {
   "cell_type": "code",
   "execution_count": 48,
   "metadata": {
    "id": "2wNqhIt9Mh81"
   },
   "outputs": [],
   "source": [
    "X_train_feat = X_train[['Age','Clinical A','Clinical B','Clinical C','Clinical D']]\n",
    "X_test_feat = X_test[['Age','Clinical A','Clinical B','Clinical C','Clinical D']]"
   ]
  },
  {
   "cell_type": "code",
   "execution_count": 49,
   "metadata": {
    "colab": {
     "base_uri": "https://localhost:8080/"
    },
    "id": "CM7IcgRJMh85",
    "outputId": "0707b8f1-6d38-485b-95bc-f18d2e2c94e2"
   },
   "outputs": [
    {
     "data": {
      "text/plain": [
       "MinMaxScaler(copy=True, feature_range=(0, 1))"
      ]
     },
     "execution_count": 49,
     "metadata": {
      "tags": []
     },
     "output_type": "execute_result"
    }
   ],
   "source": [
    "scaler.fit(X_train_feat)"
   ]
  },
  {
   "cell_type": "code",
   "execution_count": 50,
   "metadata": {
    "id": "l62XAZgpMh89"
   },
   "outputs": [],
   "source": [
    "X_train_feat = scaler.transform(X_train_feat)\n",
    "X_test_feat = scaler.transform(X_test_feat)"
   ]
  },
  {
   "cell_type": "markdown",
   "metadata": {
    "id": "Wqf1XBabMh8_"
   },
   "source": [
    "Combine scaled features with PCA transformed features"
   ]
  },
  {
   "cell_type": "code",
   "execution_count": 51,
   "metadata": {
    "id": "McGHDC77Mh9A"
   },
   "outputs": [],
   "source": [
    "allx_train = pd.concat([pd.DataFrame(X_train_feat), pd.DataFrame(xtrain_pca)], axis=1)\n",
    "allx_test = pd.concat([pd.DataFrame(X_test_feat), pd.DataFrame(xtest_pca)], axis=1)"
   ]
  },
  {
   "cell_type": "code",
   "execution_count": 52,
   "metadata": {
    "id": "8ZV4PxwCMh9B"
   },
   "outputs": [],
   "source": [
    "allx_train.columns=['Age','Clinical A','Clinical B','Clinical C','Clinical D',\n",
    "                    'rf0','rf1','rf2','rf3','rf4','rf5','rf6','fr7','rf8','rf9',\n",
    "                   'rf10','rf11','rf12','rf13','rf14','rf15','rf16','fr17','rf18','rf19',\n",
    "                   'rf20','rf21','rf22','rf23','rf24','rf25','rf26','fr27','rf28','rf29',\n",
    "                   'rf30','rf31','rf32','rf33','rf34','rf35','rf36']"
   ]
  },
  {
   "cell_type": "code",
   "execution_count": 53,
   "metadata": {
    "colab": {
     "base_uri": "https://localhost:8080/",
     "height": 331
    },
    "id": "tkRBl7QuMh9F",
    "outputId": "35721a7a-58ec-44e4-d23d-832f9b6e91b0"
   },
   "outputs": [
    {
     "data": {
      "text/html": [
       "<div>\n",
       "<style scoped>\n",
       "    .dataframe tbody tr th:only-of-type {\n",
       "        vertical-align: middle;\n",
       "    }\n",
       "\n",
       "    .dataframe tbody tr th {\n",
       "        vertical-align: top;\n",
       "    }\n",
       "\n",
       "    .dataframe thead th {\n",
       "        text-align: right;\n",
       "    }\n",
       "</style>\n",
       "<table border=\"1\" class=\"dataframe\">\n",
       "  <thead>\n",
       "    <tr style=\"text-align: right;\">\n",
       "      <th></th>\n",
       "      <th>Age</th>\n",
       "      <th>Clinical A</th>\n",
       "      <th>Clinical B</th>\n",
       "      <th>Clinical C</th>\n",
       "      <th>Clinical D</th>\n",
       "      <th>rf0</th>\n",
       "      <th>rf1</th>\n",
       "      <th>rf2</th>\n",
       "      <th>rf3</th>\n",
       "      <th>rf4</th>\n",
       "      <th>rf5</th>\n",
       "      <th>rf6</th>\n",
       "      <th>fr7</th>\n",
       "      <th>rf8</th>\n",
       "      <th>rf9</th>\n",
       "      <th>rf10</th>\n",
       "      <th>rf11</th>\n",
       "      <th>rf12</th>\n",
       "      <th>rf13</th>\n",
       "      <th>rf14</th>\n",
       "      <th>rf15</th>\n",
       "      <th>rf16</th>\n",
       "      <th>fr17</th>\n",
       "      <th>rf18</th>\n",
       "      <th>rf19</th>\n",
       "      <th>rf20</th>\n",
       "      <th>rf21</th>\n",
       "      <th>rf22</th>\n",
       "      <th>rf23</th>\n",
       "      <th>rf24</th>\n",
       "      <th>rf25</th>\n",
       "      <th>rf26</th>\n",
       "      <th>fr27</th>\n",
       "      <th>rf28</th>\n",
       "      <th>rf29</th>\n",
       "      <th>rf30</th>\n",
       "      <th>rf31</th>\n",
       "      <th>rf32</th>\n",
       "      <th>rf33</th>\n",
       "      <th>rf34</th>\n",
       "      <th>rf35</th>\n",
       "      <th>rf36</th>\n",
       "    </tr>\n",
       "  </thead>\n",
       "  <tbody>\n",
       "    <tr>\n",
       "      <th>count</th>\n",
       "      <td>165.000000</td>\n",
       "      <td>165.000000</td>\n",
       "      <td>165.000000</td>\n",
       "      <td>165.000000</td>\n",
       "      <td>165.000000</td>\n",
       "      <td>1.650000e+02</td>\n",
       "      <td>1.650000e+02</td>\n",
       "      <td>1.650000e+02</td>\n",
       "      <td>1.650000e+02</td>\n",
       "      <td>1.650000e+02</td>\n",
       "      <td>1.650000e+02</td>\n",
       "      <td>1.650000e+02</td>\n",
       "      <td>1.650000e+02</td>\n",
       "      <td>1.650000e+02</td>\n",
       "      <td>1.650000e+02</td>\n",
       "      <td>1.650000e+02</td>\n",
       "      <td>1.650000e+02</td>\n",
       "      <td>1.650000e+02</td>\n",
       "      <td>1.650000e+02</td>\n",
       "      <td>1.650000e+02</td>\n",
       "      <td>1.650000e+02</td>\n",
       "      <td>1.650000e+02</td>\n",
       "      <td>1.650000e+02</td>\n",
       "      <td>1.650000e+02</td>\n",
       "      <td>1.650000e+02</td>\n",
       "      <td>1.650000e+02</td>\n",
       "      <td>1.650000e+02</td>\n",
       "      <td>1.650000e+02</td>\n",
       "      <td>1.650000e+02</td>\n",
       "      <td>1.650000e+02</td>\n",
       "      <td>1.650000e+02</td>\n",
       "      <td>1.650000e+02</td>\n",
       "      <td>1.650000e+02</td>\n",
       "      <td>1.650000e+02</td>\n",
       "      <td>1.650000e+02</td>\n",
       "      <td>1.650000e+02</td>\n",
       "      <td>1.650000e+02</td>\n",
       "      <td>1.650000e+02</td>\n",
       "      <td>1.650000e+02</td>\n",
       "      <td>1.650000e+02</td>\n",
       "      <td>1.650000e+02</td>\n",
       "      <td>1.650000e+02</td>\n",
       "    </tr>\n",
       "    <tr>\n",
       "      <th>mean</th>\n",
       "      <td>0.551621</td>\n",
       "      <td>0.442424</td>\n",
       "      <td>0.654545</td>\n",
       "      <td>0.603030</td>\n",
       "      <td>0.055231</td>\n",
       "      <td>5.167584e-16</td>\n",
       "      <td>3.337398e-16</td>\n",
       "      <td>1.453383e-16</td>\n",
       "      <td>1.291896e-16</td>\n",
       "      <td>2.583792e-16</td>\n",
       "      <td>4.037175e-16</td>\n",
       "      <td>-9.689219e-17</td>\n",
       "      <td>2.590520e-16</td>\n",
       "      <td>2.691450e-18</td>\n",
       "      <td>-2.691450e-18</td>\n",
       "      <td>6.459479e-17</td>\n",
       "      <td>2.072416e-16</td>\n",
       "      <td>-2.691450e-17</td>\n",
       "      <td>5.652044e-17</td>\n",
       "      <td>1.480297e-16</td>\n",
       "      <td>-1.291896e-16</td>\n",
       "      <td>4.037175e-17</td>\n",
       "      <td>2.301190e-16</td>\n",
       "      <td>-1.184238e-16</td>\n",
       "      <td>-1.614870e-17</td>\n",
       "      <td>-8.074349e-18</td>\n",
       "      <td>-4.037175e-17</td>\n",
       "      <td>-1.029480e-16</td>\n",
       "      <td>5.517472e-17</td>\n",
       "      <td>3.768030e-17</td>\n",
       "      <td>4.710037e-17</td>\n",
       "      <td>-2.018587e-17</td>\n",
       "      <td>1.614870e-17</td>\n",
       "      <td>1.251524e-16</td>\n",
       "      <td>-5.046468e-18</td>\n",
       "      <td>2.489591e-17</td>\n",
       "      <td>-2.052230e-17</td>\n",
       "      <td>-4.306320e-17</td>\n",
       "      <td>4.037175e-18</td>\n",
       "      <td>-1.076580e-17</td>\n",
       "      <td>-1.076580e-16</td>\n",
       "      <td>-3.835316e-17</td>\n",
       "    </tr>\n",
       "    <tr>\n",
       "      <th>std</th>\n",
       "      <td>0.177262</td>\n",
       "      <td>0.325442</td>\n",
       "      <td>0.249365</td>\n",
       "      <td>0.333573</td>\n",
       "      <td>0.158558</td>\n",
       "      <td>1.811024e+01</td>\n",
       "      <td>1.136338e+01</td>\n",
       "      <td>7.344958e+00</td>\n",
       "      <td>6.930642e+00</td>\n",
       "      <td>6.031532e+00</td>\n",
       "      <td>5.024842e+00</td>\n",
       "      <td>4.601688e+00</td>\n",
       "      <td>4.322750e+00</td>\n",
       "      <td>3.631085e+00</td>\n",
       "      <td>3.527866e+00</td>\n",
       "      <td>3.306269e+00</td>\n",
       "      <td>3.143504e+00</td>\n",
       "      <td>2.950760e+00</td>\n",
       "      <td>2.912926e+00</td>\n",
       "      <td>2.634892e+00</td>\n",
       "      <td>2.582854e+00</td>\n",
       "      <td>2.472023e+00</td>\n",
       "      <td>2.329429e+00</td>\n",
       "      <td>2.244616e+00</td>\n",
       "      <td>2.122148e+00</td>\n",
       "      <td>2.056492e+00</td>\n",
       "      <td>1.991803e+00</td>\n",
       "      <td>1.930061e+00</td>\n",
       "      <td>1.868616e+00</td>\n",
       "      <td>1.835001e+00</td>\n",
       "      <td>1.814828e+00</td>\n",
       "      <td>1.723076e+00</td>\n",
       "      <td>1.664304e+00</td>\n",
       "      <td>1.615002e+00</td>\n",
       "      <td>1.576893e+00</td>\n",
       "      <td>1.557221e+00</td>\n",
       "      <td>1.497612e+00</td>\n",
       "      <td>1.461674e+00</td>\n",
       "      <td>1.428345e+00</td>\n",
       "      <td>1.360083e+00</td>\n",
       "      <td>1.354453e+00</td>\n",
       "      <td>1.324123e+00</td>\n",
       "    </tr>\n",
       "    <tr>\n",
       "      <th>min</th>\n",
       "      <td>0.000000</td>\n",
       "      <td>0.000000</td>\n",
       "      <td>0.000000</td>\n",
       "      <td>0.000000</td>\n",
       "      <td>0.000000</td>\n",
       "      <td>-3.252854e+01</td>\n",
       "      <td>-3.698512e+01</td>\n",
       "      <td>-1.665238e+01</td>\n",
       "      <td>-1.660032e+01</td>\n",
       "      <td>-1.042801e+01</td>\n",
       "      <td>-1.735128e+01</td>\n",
       "      <td>-1.272127e+01</td>\n",
       "      <td>-1.041913e+01</td>\n",
       "      <td>-1.477126e+01</td>\n",
       "      <td>-1.188515e+01</td>\n",
       "      <td>-1.112062e+01</td>\n",
       "      <td>-1.090754e+01</td>\n",
       "      <td>-8.211007e+00</td>\n",
       "      <td>-8.934978e+00</td>\n",
       "      <td>-9.783663e+00</td>\n",
       "      <td>-1.042980e+01</td>\n",
       "      <td>-7.070411e+00</td>\n",
       "      <td>-6.549166e+00</td>\n",
       "      <td>-5.514577e+00</td>\n",
       "      <td>-5.149711e+00</td>\n",
       "      <td>-6.610792e+00</td>\n",
       "      <td>-5.635509e+00</td>\n",
       "      <td>-6.342699e+00</td>\n",
       "      <td>-5.283552e+00</td>\n",
       "      <td>-4.455221e+00</td>\n",
       "      <td>-4.741063e+00</td>\n",
       "      <td>-3.632622e+00</td>\n",
       "      <td>-4.035998e+00</td>\n",
       "      <td>-4.557807e+00</td>\n",
       "      <td>-3.904536e+00</td>\n",
       "      <td>-6.886201e+00</td>\n",
       "      <td>-4.148321e+00</td>\n",
       "      <td>-4.040873e+00</td>\n",
       "      <td>-3.906893e+00</td>\n",
       "      <td>-3.778398e+00</td>\n",
       "      <td>-3.359776e+00</td>\n",
       "      <td>-4.218729e+00</td>\n",
       "    </tr>\n",
       "    <tr>\n",
       "      <th>25%</th>\n",
       "      <td>0.438596</td>\n",
       "      <td>0.333333</td>\n",
       "      <td>0.666667</td>\n",
       "      <td>0.500000</td>\n",
       "      <td>0.000000</td>\n",
       "      <td>-1.179258e+01</td>\n",
       "      <td>-6.259536e+00</td>\n",
       "      <td>-3.714134e+00</td>\n",
       "      <td>-4.250140e+00</td>\n",
       "      <td>-3.939455e+00</td>\n",
       "      <td>-2.483641e+00</td>\n",
       "      <td>-2.116420e+00</td>\n",
       "      <td>-3.208398e+00</td>\n",
       "      <td>-1.658487e+00</td>\n",
       "      <td>-2.563520e+00</td>\n",
       "      <td>-1.566019e+00</td>\n",
       "      <td>-2.007215e+00</td>\n",
       "      <td>-1.767016e+00</td>\n",
       "      <td>-1.469860e+00</td>\n",
       "      <td>-1.450231e+00</td>\n",
       "      <td>-1.383288e+00</td>\n",
       "      <td>-1.468382e+00</td>\n",
       "      <td>-1.595785e+00</td>\n",
       "      <td>-1.190509e+00</td>\n",
       "      <td>-1.412771e+00</td>\n",
       "      <td>-1.090118e+00</td>\n",
       "      <td>-1.119819e+00</td>\n",
       "      <td>-1.037450e+00</td>\n",
       "      <td>-1.094149e+00</td>\n",
       "      <td>-1.289379e+00</td>\n",
       "      <td>-1.033430e+00</td>\n",
       "      <td>-1.029401e+00</td>\n",
       "      <td>-8.858687e-01</td>\n",
       "      <td>-9.507238e-01</td>\n",
       "      <td>-1.022682e+00</td>\n",
       "      <td>-9.446012e-01</td>\n",
       "      <td>-7.818091e-01</td>\n",
       "      <td>-9.122951e-01</td>\n",
       "      <td>-8.619064e-01</td>\n",
       "      <td>-8.586245e-01</td>\n",
       "      <td>-9.250203e-01</td>\n",
       "      <td>-8.239031e-01</td>\n",
       "    </tr>\n",
       "    <tr>\n",
       "      <th>50%</th>\n",
       "      <td>0.543860</td>\n",
       "      <td>0.333333</td>\n",
       "      <td>0.666667</td>\n",
       "      <td>0.500000</td>\n",
       "      <td>0.008363</td>\n",
       "      <td>-4.834005e+00</td>\n",
       "      <td>-6.402043e-01</td>\n",
       "      <td>-2.818732e-01</td>\n",
       "      <td>8.838812e-01</td>\n",
       "      <td>-1.361600e+00</td>\n",
       "      <td>-1.608151e-01</td>\n",
       "      <td>1.764152e-01</td>\n",
       "      <td>-3.151476e-01</td>\n",
       "      <td>-2.131707e-01</td>\n",
       "      <td>3.129776e-01</td>\n",
       "      <td>-1.992432e-01</td>\n",
       "      <td>3.140278e-01</td>\n",
       "      <td>3.828970e-02</td>\n",
       "      <td>-3.157338e-01</td>\n",
       "      <td>-1.880353e-01</td>\n",
       "      <td>9.761208e-02</td>\n",
       "      <td>1.758069e-02</td>\n",
       "      <td>-4.726856e-02</td>\n",
       "      <td>-3.004025e-01</td>\n",
       "      <td>3.467042e-02</td>\n",
       "      <td>3.474235e-02</td>\n",
       "      <td>1.167561e-01</td>\n",
       "      <td>-1.526198e-01</td>\n",
       "      <td>3.773602e-02</td>\n",
       "      <td>-3.599029e-02</td>\n",
       "      <td>-2.608030e-01</td>\n",
       "      <td>-9.515747e-02</td>\n",
       "      <td>-1.051395e-02</td>\n",
       "      <td>-2.226053e-02</td>\n",
       "      <td>-3.759190e-02</td>\n",
       "      <td>-3.636448e-02</td>\n",
       "      <td>-1.073548e-02</td>\n",
       "      <td>5.898566e-03</td>\n",
       "      <td>-4.027219e-02</td>\n",
       "      <td>1.261521e-01</td>\n",
       "      <td>1.723923e-03</td>\n",
       "      <td>2.020518e-02</td>\n",
       "    </tr>\n",
       "    <tr>\n",
       "      <th>75%</th>\n",
       "      <td>0.649123</td>\n",
       "      <td>0.666667</td>\n",
       "      <td>0.666667</td>\n",
       "      <td>1.000000</td>\n",
       "      <td>0.037722</td>\n",
       "      <td>5.572064e+00</td>\n",
       "      <td>6.091980e+00</td>\n",
       "      <td>3.330136e+00</td>\n",
       "      <td>4.370573e+00</td>\n",
       "      <td>2.496375e+00</td>\n",
       "      <td>1.688281e+00</td>\n",
       "      <td>1.953981e+00</td>\n",
       "      <td>2.850946e+00</td>\n",
       "      <td>1.742758e+00</td>\n",
       "      <td>2.608457e+00</td>\n",
       "      <td>1.430606e+00</td>\n",
       "      <td>1.835574e+00</td>\n",
       "      <td>1.619203e+00</td>\n",
       "      <td>1.309987e+00</td>\n",
       "      <td>1.192439e+00</td>\n",
       "      <td>1.159924e+00</td>\n",
       "      <td>1.152627e+00</td>\n",
       "      <td>1.286038e+00</td>\n",
       "      <td>1.277627e+00</td>\n",
       "      <td>1.306630e+00</td>\n",
       "      <td>1.255149e+00</td>\n",
       "      <td>1.223213e+00</td>\n",
       "      <td>1.256785e+00</td>\n",
       "      <td>9.563020e-01</td>\n",
       "      <td>1.270841e+00</td>\n",
       "      <td>9.862755e-01</td>\n",
       "      <td>9.914100e-01</td>\n",
       "      <td>1.086335e+00</td>\n",
       "      <td>9.470697e-01</td>\n",
       "      <td>9.891613e-01</td>\n",
       "      <td>8.821712e-01</td>\n",
       "      <td>9.131506e-01</td>\n",
       "      <td>8.663650e-01</td>\n",
       "      <td>8.759213e-01</td>\n",
       "      <td>8.585617e-01</td>\n",
       "      <td>8.639576e-01</td>\n",
       "      <td>7.621397e-01</td>\n",
       "    </tr>\n",
       "    <tr>\n",
       "      <th>max</th>\n",
       "      <td>1.000000</td>\n",
       "      <td>1.000000</td>\n",
       "      <td>1.000000</td>\n",
       "      <td>1.000000</td>\n",
       "      <td>1.000000</td>\n",
       "      <td>7.075386e+01</td>\n",
       "      <td>4.908672e+01</td>\n",
       "      <td>2.976755e+01</td>\n",
       "      <td>1.888149e+01</td>\n",
       "      <td>2.725089e+01</td>\n",
       "      <td>2.616446e+01</td>\n",
       "      <td>1.892180e+01</td>\n",
       "      <td>1.306163e+01</td>\n",
       "      <td>1.676837e+01</td>\n",
       "      <td>1.235269e+01</td>\n",
       "      <td>1.133207e+01</td>\n",
       "      <td>1.178414e+01</td>\n",
       "      <td>1.524546e+01</td>\n",
       "      <td>1.122502e+01</td>\n",
       "      <td>1.716060e+01</td>\n",
       "      <td>1.078694e+01</td>\n",
       "      <td>1.370813e+01</td>\n",
       "      <td>7.325379e+00</td>\n",
       "      <td>1.587045e+01</td>\n",
       "      <td>7.105350e+00</td>\n",
       "      <td>7.016313e+00</td>\n",
       "      <td>6.312960e+00</td>\n",
       "      <td>6.887709e+00</td>\n",
       "      <td>5.983311e+00</td>\n",
       "      <td>4.786302e+00</td>\n",
       "      <td>5.831960e+00</td>\n",
       "      <td>7.231509e+00</td>\n",
       "      <td>7.415810e+00</td>\n",
       "      <td>5.719555e+00</td>\n",
       "      <td>5.951547e+00</td>\n",
       "      <td>7.425657e+00</td>\n",
       "      <td>5.291254e+00</td>\n",
       "      <td>4.753590e+00</td>\n",
       "      <td>4.701904e+00</td>\n",
       "      <td>4.518570e+00</td>\n",
       "      <td>4.032620e+00</td>\n",
       "      <td>4.277749e+00</td>\n",
       "    </tr>\n",
       "  </tbody>\n",
       "</table>\n",
       "</div>"
      ],
      "text/plain": [
       "              Age  Clinical A  ...          rf35          rf36\n",
       "count  165.000000  165.000000  ...  1.650000e+02  1.650000e+02\n",
       "mean     0.551621    0.442424  ... -1.076580e-16 -3.835316e-17\n",
       "std      0.177262    0.325442  ...  1.354453e+00  1.324123e+00\n",
       "min      0.000000    0.000000  ... -3.359776e+00 -4.218729e+00\n",
       "25%      0.438596    0.333333  ... -9.250203e-01 -8.239031e-01\n",
       "50%      0.543860    0.333333  ...  1.723923e-03  2.020518e-02\n",
       "75%      0.649123    0.666667  ...  8.639576e-01  7.621397e-01\n",
       "max      1.000000    1.000000  ...  4.032620e+00  4.277749e+00\n",
       "\n",
       "[8 rows x 42 columns]"
      ]
     },
     "execution_count": 53,
     "metadata": {
      "tags": []
     },
     "output_type": "execute_result"
    }
   ],
   "source": [
    "allx_train.describe()"
   ]
  },
  {
   "cell_type": "code",
   "execution_count": 54,
   "metadata": {
    "id": "nxVdO6-_Mh9H"
   },
   "outputs": [],
   "source": [
    "allx_test.columns=['Age','Clinical A','Clinical B','Clinical C','Clinical D',\n",
    "                    'rf0','rf1','rf2','rf3','rf4','rf5','rf6','fr7','rf8','rf9',\n",
    "                   'rf10','rf11','rf12','rf13','rf14','rf15','rf16','fr17','rf18','rf19',\n",
    "                   'rf20','rf21','rf22','rf23','rf24','rf25','rf26','fr27','rf28','rf29',\n",
    "                   'rf30','rf31','rf32','rf33','rf34','rf35','rf36']"
   ]
  },
  {
   "cell_type": "code",
   "execution_count": 55,
   "metadata": {
    "id": "0eOcZKMWMh9J"
   },
   "outputs": [],
   "source": [
    "allx_train = allx_train.values\n",
    "allx_test = allx_test.values\n",
    "y_train = y_train.values\n",
    "y_test = y_test.values"
   ]
  },
  {
   "cell_type": "markdown",
   "metadata": {
    "id": "1dSKdsqKMh9L"
   },
   "source": [
    "# Association analysis: Neural Network"
   ]
  },
  {
   "cell_type": "code",
   "execution_count": 56,
   "metadata": {
    "id": "NjSFQljdMh9M"
   },
   "outputs": [],
   "source": [
    "import tensorflow as tf\n",
    "from tensorflow.keras.models import Sequential\n",
    "from tensorflow.keras.layers import Dense,Activation, Dropout"
   ]
  },
  {
   "cell_type": "code",
   "execution_count": 57,
   "metadata": {
    "id": "0fGMP7N1Mh9O"
   },
   "outputs": [],
   "source": [
    "from tensorflow.keras.callbacks import EarlyStopping, ModelCheckpoint"
   ]
  },
  {
   "cell_type": "code",
   "execution_count": 58,
   "metadata": {
    "colab": {
     "base_uri": "https://localhost:8080/",
     "height": 35
    },
    "id": "G4LN98GpMh9Q",
    "outputId": "15406591-5f28-4f56-e0fa-e32ca9c33b0b"
   },
   "outputs": [
    {
     "data": {
      "application/vnd.google.colaboratory.intrinsic+json": {
       "type": "string"
      },
      "text/plain": [
       "'2.3.0'"
      ]
     },
     "execution_count": 58,
     "metadata": {
      "tags": []
     },
     "output_type": "execute_result"
    }
   ],
   "source": [
    "tf.__version__"
   ]
  },
  {
   "cell_type": "code",
   "execution_count": 59,
   "metadata": {
    "colab": {
     "base_uri": "https://localhost:8080/"
    },
    "id": "IZf9Xja1Mh9T",
    "outputId": "6bbb6b00-5ff6-44b8-ef49-baeeafb348bf"
   },
   "outputs": [
    {
     "data": {
      "text/plain": [
       "(165, 42)"
      ]
     },
     "execution_count": 59,
     "metadata": {
      "tags": []
     },
     "output_type": "execute_result"
    }
   ],
   "source": [
    "allx_train.shape"
   ]
  },
  {
   "cell_type": "code",
   "execution_count": 60,
   "metadata": {
    "id": "zsBrVeEHMh9W"
   },
   "outputs": [],
   "source": [
    "early_stop = EarlyStopping(monitor='val_loss',mode='min',verbose=1,patience=20)\n",
    "check_point = ModelCheckpoint('cancer_survival_prediction.hdf5', monitor='val_accuracy',save_best_only=True)"
   ]
  },
  {
   "cell_type": "code",
   "execution_count": 61,
   "metadata": {
    "id": "i3WPcvD1Mh9Y"
   },
   "outputs": [],
   "source": [
    "model = Sequential()\n",
    "\n",
    "model.add(Dense(units=42,activation='relu'))\n",
    "\n",
    "model.add(Dense(units=35,activation='relu'))\n",
    "\n",
    "model.add(Dense(units=20,activation='relu'))\n",
    "\n",
    "model.add(Dense(units=10,activation='relu'))\n",
    "\n",
    "\n",
    "model.add(Dense(units=1,activation='sigmoid'))\n",
    "\n",
    "\n",
    "model.compile(loss='binary_crossentropy',optimizer='adam',metrics=['accuracy'])"
   ]
  },
  {
   "cell_type": "code",
   "execution_count": 62,
   "metadata": {
    "colab": {
     "base_uri": "https://localhost:8080/"
    },
    "id": "pkp2NLV3Mh9a",
    "outputId": "a3061f18-a266-4fa5-dbbf-6fce9942d17a"
   },
   "outputs": [
    {
     "name": "stdout",
     "output_type": "stream",
     "text": [
      "Epoch 1/100\n",
      "6/6 [==============================] - 0s 34ms/step - loss: 3.0171 - accuracy: 0.1818 - val_loss: 1.3212 - val_accuracy: 0.3000\n",
      "Epoch 2/100\n",
      "6/6 [==============================] - 0s 7ms/step - loss: 1.3793 - accuracy: 0.3333 - val_loss: 0.6901 - val_accuracy: 0.5333\n",
      "Epoch 3/100\n",
      "6/6 [==============================] - 0s 7ms/step - loss: 0.7036 - accuracy: 0.6182 - val_loss: 0.4926 - val_accuracy: 0.8333\n",
      "Epoch 4/100\n",
      "6/6 [==============================] - 0s 7ms/step - loss: 0.5253 - accuracy: 0.7455 - val_loss: 0.4256 - val_accuracy: 0.9000\n",
      "Epoch 5/100\n",
      "6/6 [==============================] - 0s 4ms/step - loss: 0.4724 - accuracy: 0.8182 - val_loss: 0.4087 - val_accuracy: 0.8667\n",
      "Epoch 6/100\n",
      "6/6 [==============================] - 0s 4ms/step - loss: 0.4473 - accuracy: 0.8424 - val_loss: 0.4063 - val_accuracy: 0.8333\n",
      "Epoch 7/100\n",
      "6/6 [==============================] - 0s 4ms/step - loss: 0.4301 - accuracy: 0.8424 - val_loss: 0.4044 - val_accuracy: 0.8333\n",
      "Epoch 8/100\n",
      "6/6 [==============================] - 0s 4ms/step - loss: 0.4163 - accuracy: 0.8424 - val_loss: 0.3946 - val_accuracy: 0.8333\n",
      "Epoch 9/100\n",
      "6/6 [==============================] - 0s 5ms/step - loss: 0.4009 - accuracy: 0.8424 - val_loss: 0.3873 - val_accuracy: 0.8333\n",
      "Epoch 10/100\n",
      "6/6 [==============================] - 0s 4ms/step - loss: 0.3870 - accuracy: 0.8424 - val_loss: 0.3774 - val_accuracy: 0.8667\n",
      "Epoch 11/100\n",
      "6/6 [==============================] - 0s 4ms/step - loss: 0.3743 - accuracy: 0.8424 - val_loss: 0.3684 - val_accuracy: 0.8667\n",
      "Epoch 12/100\n",
      "6/6 [==============================] - 0s 5ms/step - loss: 0.3617 - accuracy: 0.8545 - val_loss: 0.3655 - val_accuracy: 0.8667\n",
      "Epoch 13/100\n",
      "6/6 [==============================] - 0s 4ms/step - loss: 0.3512 - accuracy: 0.8545 - val_loss: 0.3610 - val_accuracy: 0.8667\n",
      "Epoch 14/100\n",
      "6/6 [==============================] - 0s 4ms/step - loss: 0.3418 - accuracy: 0.8606 - val_loss: 0.3610 - val_accuracy: 0.8667\n",
      "Epoch 15/100\n",
      "6/6 [==============================] - 0s 4ms/step - loss: 0.3322 - accuracy: 0.8606 - val_loss: 0.3567 - val_accuracy: 0.8667\n",
      "Epoch 16/100\n",
      "6/6 [==============================] - 0s 4ms/step - loss: 0.3223 - accuracy: 0.8727 - val_loss: 0.3537 - val_accuracy: 0.8667\n",
      "Epoch 17/100\n",
      "6/6 [==============================] - 0s 4ms/step - loss: 0.3143 - accuracy: 0.8848 - val_loss: 0.3469 - val_accuracy: 0.9000\n",
      "Epoch 18/100\n",
      "6/6 [==============================] - 0s 4ms/step - loss: 0.3053 - accuracy: 0.8848 - val_loss: 0.3486 - val_accuracy: 0.8667\n",
      "Epoch 19/100\n",
      "6/6 [==============================] - 0s 7ms/step - loss: 0.2973 - accuracy: 0.8848 - val_loss: 0.3464 - val_accuracy: 0.9333\n",
      "Epoch 20/100\n",
      "6/6 [==============================] - 0s 4ms/step - loss: 0.2906 - accuracy: 0.8909 - val_loss: 0.3412 - val_accuracy: 0.9333\n",
      "Epoch 21/100\n",
      "6/6 [==============================] - 0s 4ms/step - loss: 0.2853 - accuracy: 0.8970 - val_loss: 0.3359 - val_accuracy: 0.9333\n",
      "Epoch 22/100\n",
      "6/6 [==============================] - 0s 4ms/step - loss: 0.2766 - accuracy: 0.9091 - val_loss: 0.3307 - val_accuracy: 0.9333\n",
      "Epoch 23/100\n",
      "6/6 [==============================] - 0s 4ms/step - loss: 0.2676 - accuracy: 0.9091 - val_loss: 0.3277 - val_accuracy: 0.9000\n",
      "Epoch 24/100\n",
      "6/6 [==============================] - 0s 4ms/step - loss: 0.2586 - accuracy: 0.9030 - val_loss: 0.3250 - val_accuracy: 0.9000\n",
      "Epoch 25/100\n",
      "6/6 [==============================] - 0s 4ms/step - loss: 0.2518 - accuracy: 0.9030 - val_loss: 0.3229 - val_accuracy: 0.9000\n",
      "Epoch 26/100\n",
      "6/6 [==============================] - 0s 4ms/step - loss: 0.2441 - accuracy: 0.9091 - val_loss: 0.3193 - val_accuracy: 0.9000\n",
      "Epoch 27/100\n",
      "6/6 [==============================] - 0s 4ms/step - loss: 0.2379 - accuracy: 0.9091 - val_loss: 0.3180 - val_accuracy: 0.9000\n",
      "Epoch 28/100\n",
      "6/6 [==============================] - 0s 4ms/step - loss: 0.2308 - accuracy: 0.9152 - val_loss: 0.3165 - val_accuracy: 0.9000\n",
      "Epoch 29/100\n",
      "6/6 [==============================] - 0s 4ms/step - loss: 0.2239 - accuracy: 0.9152 - val_loss: 0.3103 - val_accuracy: 0.9333\n",
      "Epoch 30/100\n",
      "6/6 [==============================] - 0s 4ms/step - loss: 0.2164 - accuracy: 0.9152 - val_loss: 0.3080 - val_accuracy: 0.9333\n",
      "Epoch 31/100\n",
      "6/6 [==============================] - 0s 4ms/step - loss: 0.2098 - accuracy: 0.9152 - val_loss: 0.3113 - val_accuracy: 0.9000\n",
      "Epoch 32/100\n",
      "6/6 [==============================] - 0s 4ms/step - loss: 0.2030 - accuracy: 0.9152 - val_loss: 0.3080 - val_accuracy: 0.9000\n",
      "Epoch 33/100\n",
      "6/6 [==============================] - 0s 4ms/step - loss: 0.1951 - accuracy: 0.9394 - val_loss: 0.3026 - val_accuracy: 0.9333\n",
      "Epoch 34/100\n",
      "6/6 [==============================] - 0s 5ms/step - loss: 0.1891 - accuracy: 0.9455 - val_loss: 0.2981 - val_accuracy: 0.9333\n",
      "Epoch 35/100\n",
      "6/6 [==============================] - 0s 4ms/step - loss: 0.1827 - accuracy: 0.9455 - val_loss: 0.2980 - val_accuracy: 0.9333\n",
      "Epoch 36/100\n",
      "6/6 [==============================] - 0s 4ms/step - loss: 0.1753 - accuracy: 0.9455 - val_loss: 0.2971 - val_accuracy: 0.9333\n",
      "Epoch 37/100\n",
      "6/6 [==============================] - 0s 5ms/step - loss: 0.1683 - accuracy: 0.9576 - val_loss: 0.2952 - val_accuracy: 0.9333\n",
      "Epoch 38/100\n",
      "6/6 [==============================] - 0s 4ms/step - loss: 0.1615 - accuracy: 0.9576 - val_loss: 0.2910 - val_accuracy: 0.9333\n",
      "Epoch 39/100\n",
      "6/6 [==============================] - 0s 4ms/step - loss: 0.1554 - accuracy: 0.9576 - val_loss: 0.2948 - val_accuracy: 0.9333\n",
      "Epoch 40/100\n",
      "6/6 [==============================] - 0s 4ms/step - loss: 0.1492 - accuracy: 0.9576 - val_loss: 0.2949 - val_accuracy: 0.9333\n",
      "Epoch 41/100\n",
      "6/6 [==============================] - 0s 4ms/step - loss: 0.1447 - accuracy: 0.9576 - val_loss: 0.2957 - val_accuracy: 0.9333\n",
      "Epoch 42/100\n",
      "6/6 [==============================] - 0s 4ms/step - loss: 0.1393 - accuracy: 0.9636 - val_loss: 0.3010 - val_accuracy: 0.9333\n",
      "Epoch 43/100\n",
      "6/6 [==============================] - 0s 4ms/step - loss: 0.1360 - accuracy: 0.9636 - val_loss: 0.3018 - val_accuracy: 0.9000\n",
      "Epoch 44/100\n",
      "6/6 [==============================] - 0s 4ms/step - loss: 0.1301 - accuracy: 0.9697 - val_loss: 0.3037 - val_accuracy: 0.9000\n",
      "Epoch 45/100\n",
      "6/6 [==============================] - 0s 4ms/step - loss: 0.1252 - accuracy: 0.9758 - val_loss: 0.3037 - val_accuracy: 0.9333\n",
      "Epoch 46/100\n",
      "6/6 [==============================] - 0s 4ms/step - loss: 0.1213 - accuracy: 0.9758 - val_loss: 0.3084 - val_accuracy: 0.9333\n",
      "Epoch 47/100\n",
      "6/6 [==============================] - 0s 4ms/step - loss: 0.1151 - accuracy: 0.9758 - val_loss: 0.3121 - val_accuracy: 0.9333\n",
      "Epoch 48/100\n",
      "6/6 [==============================] - 0s 4ms/step - loss: 0.1098 - accuracy: 0.9758 - val_loss: 0.3103 - val_accuracy: 0.9333\n",
      "Epoch 49/100\n",
      "6/6 [==============================] - 0s 4ms/step - loss: 0.1049 - accuracy: 0.9758 - val_loss: 0.3145 - val_accuracy: 0.9000\n",
      "Epoch 50/100\n",
      "6/6 [==============================] - 0s 4ms/step - loss: 0.1007 - accuracy: 0.9758 - val_loss: 0.3217 - val_accuracy: 0.9333\n",
      "Epoch 51/100\n",
      "6/6 [==============================] - 0s 4ms/step - loss: 0.0957 - accuracy: 0.9758 - val_loss: 0.3268 - val_accuracy: 0.9000\n",
      "Epoch 52/100\n",
      "6/6 [==============================] - 0s 4ms/step - loss: 0.0902 - accuracy: 0.9758 - val_loss: 0.3234 - val_accuracy: 0.9333\n",
      "Epoch 53/100\n",
      "6/6 [==============================] - 0s 4ms/step - loss: 0.0863 - accuracy: 0.9758 - val_loss: 0.3120 - val_accuracy: 0.9333\n",
      "Epoch 54/100\n",
      "6/6 [==============================] - 0s 4ms/step - loss: 0.0832 - accuracy: 0.9758 - val_loss: 0.3115 - val_accuracy: 0.9333\n",
      "Epoch 55/100\n",
      "6/6 [==============================] - 0s 4ms/step - loss: 0.0789 - accuracy: 0.9818 - val_loss: 0.3159 - val_accuracy: 0.9333\n",
      "Epoch 56/100\n",
      "6/6 [==============================] - 0s 4ms/step - loss: 0.0739 - accuracy: 0.9818 - val_loss: 0.3264 - val_accuracy: 0.9000\n",
      "Epoch 57/100\n",
      "6/6 [==============================] - 0s 4ms/step - loss: 0.0694 - accuracy: 0.9818 - val_loss: 0.3378 - val_accuracy: 0.9000\n",
      "Epoch 58/100\n",
      "6/6 [==============================] - 0s 4ms/step - loss: 0.0651 - accuracy: 0.9818 - val_loss: 0.3383 - val_accuracy: 0.9000\n",
      "Epoch 59/100\n",
      "6/6 [==============================] - 0s 4ms/step - loss: 0.0614 - accuracy: 0.9818 - val_loss: 0.3368 - val_accuracy: 0.9000\n",
      "Epoch 60/100\n",
      "6/6 [==============================] - 0s 4ms/step - loss: 0.0579 - accuracy: 0.9879 - val_loss: 0.3410 - val_accuracy: 0.9000\n",
      "Epoch 61/100\n",
      "6/6 [==============================] - 0s 4ms/step - loss: 0.0546 - accuracy: 0.9879 - val_loss: 0.3366 - val_accuracy: 0.9000\n",
      "Epoch 62/100\n",
      "6/6 [==============================] - 0s 4ms/step - loss: 0.0518 - accuracy: 0.9879 - val_loss: 0.3359 - val_accuracy: 0.9333\n",
      "Epoch 63/100\n",
      "6/6 [==============================] - 0s 4ms/step - loss: 0.0489 - accuracy: 0.9879 - val_loss: 0.3359 - val_accuracy: 0.9333\n",
      "Epoch 64/100\n",
      "6/6 [==============================] - 0s 4ms/step - loss: 0.0468 - accuracy: 0.9879 - val_loss: 0.3438 - val_accuracy: 0.9333\n",
      "Epoch 65/100\n",
      "6/6 [==============================] - 0s 4ms/step - loss: 0.0453 - accuracy: 0.9879 - val_loss: 0.3746 - val_accuracy: 0.9333\n",
      "Epoch 66/100\n",
      "6/6 [==============================] - 0s 4ms/step - loss: 0.0434 - accuracy: 0.9879 - val_loss: 0.3696 - val_accuracy: 0.9000\n",
      "Epoch 67/100\n",
      "6/6 [==============================] - 0s 4ms/step - loss: 0.0402 - accuracy: 0.9939 - val_loss: 0.3558 - val_accuracy: 0.9000\n",
      "Epoch 68/100\n",
      "6/6 [==============================] - 0s 4ms/step - loss: 0.0381 - accuracy: 0.9939 - val_loss: 0.3505 - val_accuracy: 0.9333\n",
      "Epoch 69/100\n",
      "6/6 [==============================] - 0s 4ms/step - loss: 0.0356 - accuracy: 0.9939 - val_loss: 0.3515 - val_accuracy: 0.9333\n",
      "Epoch 70/100\n",
      "6/6 [==============================] - 0s 4ms/step - loss: 0.0338 - accuracy: 0.9939 - val_loss: 0.3574 - val_accuracy: 0.9333\n",
      "Epoch 71/100\n",
      "6/6 [==============================] - 0s 4ms/step - loss: 0.0318 - accuracy: 0.9939 - val_loss: 0.3650 - val_accuracy: 0.9333\n",
      "Epoch 72/100\n",
      "6/6 [==============================] - 0s 4ms/step - loss: 0.0300 - accuracy: 0.9939 - val_loss: 0.3671 - val_accuracy: 0.9333\n",
      "Epoch 73/100\n",
      "6/6 [==============================] - 0s 4ms/step - loss: 0.0284 - accuracy: 0.9939 - val_loss: 0.3672 - val_accuracy: 0.9333\n",
      "Epoch 74/100\n",
      "6/6 [==============================] - 0s 5ms/step - loss: 0.0267 - accuracy: 1.0000 - val_loss: 0.3729 - val_accuracy: 0.9333\n",
      "Epoch 75/100\n",
      "6/6 [==============================] - 0s 4ms/step - loss: 0.0253 - accuracy: 1.0000 - val_loss: 0.3771 - val_accuracy: 0.9000\n",
      "Epoch 76/100\n",
      "6/6 [==============================] - 0s 4ms/step - loss: 0.0241 - accuracy: 1.0000 - val_loss: 0.3797 - val_accuracy: 0.9000\n",
      "Epoch 77/100\n",
      "6/6 [==============================] - 0s 4ms/step - loss: 0.0227 - accuracy: 1.0000 - val_loss: 0.3745 - val_accuracy: 0.9333\n",
      "Epoch 78/100\n",
      "6/6 [==============================] - 0s 4ms/step - loss: 0.0218 - accuracy: 1.0000 - val_loss: 0.3705 - val_accuracy: 0.9333\n",
      "Epoch 79/100\n",
      "6/6 [==============================] - 0s 6ms/step - loss: 0.0208 - accuracy: 1.0000 - val_loss: 0.3702 - val_accuracy: 0.9333\n",
      "Epoch 80/100\n",
      "6/6 [==============================] - 0s 5ms/step - loss: 0.0199 - accuracy: 1.0000 - val_loss: 0.3755 - val_accuracy: 0.9333\n",
      "Epoch 81/100\n",
      "6/6 [==============================] - 0s 4ms/step - loss: 0.0189 - accuracy: 1.0000 - val_loss: 0.3816 - val_accuracy: 0.9333\n",
      "Epoch 82/100\n",
      "6/6 [==============================] - 0s 4ms/step - loss: 0.0181 - accuracy: 1.0000 - val_loss: 0.3834 - val_accuracy: 0.9000\n",
      "Epoch 83/100\n",
      "6/6 [==============================] - 0s 4ms/step - loss: 0.0173 - accuracy: 1.0000 - val_loss: 0.3848 - val_accuracy: 0.9000\n",
      "Epoch 84/100\n",
      "6/6 [==============================] - 0s 4ms/step - loss: 0.0165 - accuracy: 1.0000 - val_loss: 0.3890 - val_accuracy: 0.9000\n",
      "Epoch 85/100\n",
      "6/6 [==============================] - 0s 4ms/step - loss: 0.0155 - accuracy: 1.0000 - val_loss: 0.3911 - val_accuracy: 0.9000\n",
      "Epoch 86/100\n",
      "6/6 [==============================] - 0s 4ms/step - loss: 0.0149 - accuracy: 1.0000 - val_loss: 0.3932 - val_accuracy: 0.9000\n",
      "Epoch 87/100\n",
      "6/6 [==============================] - 0s 4ms/step - loss: 0.0142 - accuracy: 1.0000 - val_loss: 0.3938 - val_accuracy: 0.9000\n",
      "Epoch 88/100\n",
      "6/6 [==============================] - 0s 4ms/step - loss: 0.0135 - accuracy: 1.0000 - val_loss: 0.3964 - val_accuracy: 0.9000\n",
      "Epoch 89/100\n",
      "6/6 [==============================] - 0s 5ms/step - loss: 0.0128 - accuracy: 1.0000 - val_loss: 0.4019 - val_accuracy: 0.9000\n",
      "Epoch 90/100\n",
      "6/6 [==============================] - 0s 5ms/step - loss: 0.0123 - accuracy: 1.0000 - val_loss: 0.3990 - val_accuracy: 0.9000\n",
      "Epoch 91/100\n",
      "6/6 [==============================] - 0s 4ms/step - loss: 0.0117 - accuracy: 1.0000 - val_loss: 0.3976 - val_accuracy: 0.9000\n",
      "Epoch 92/100\n",
      "6/6 [==============================] - 0s 4ms/step - loss: 0.0114 - accuracy: 1.0000 - val_loss: 0.4078 - val_accuracy: 0.9000\n",
      "Epoch 93/100\n",
      "6/6 [==============================] - 0s 4ms/step - loss: 0.0109 - accuracy: 1.0000 - val_loss: 0.4107 - val_accuracy: 0.9000\n",
      "Epoch 94/100\n",
      "6/6 [==============================] - 0s 5ms/step - loss: 0.0105 - accuracy: 1.0000 - val_loss: 0.4114 - val_accuracy: 0.9333\n",
      "Epoch 95/100\n",
      "6/6 [==============================] - 0s 4ms/step - loss: 0.0100 - accuracy: 1.0000 - val_loss: 0.4117 - val_accuracy: 0.9000\n",
      "Epoch 96/100\n",
      "6/6 [==============================] - 0s 4ms/step - loss: 0.0096 - accuracy: 1.0000 - val_loss: 0.4114 - val_accuracy: 0.9000\n",
      "Epoch 97/100\n",
      "6/6 [==============================] - 0s 5ms/step - loss: 0.0092 - accuracy: 1.0000 - val_loss: 0.4078 - val_accuracy: 0.9000\n",
      "Epoch 98/100\n",
      "6/6 [==============================] - 0s 4ms/step - loss: 0.0089 - accuracy: 1.0000 - val_loss: 0.4069 - val_accuracy: 0.9000\n",
      "Epoch 99/100\n",
      "6/6 [==============================] - 0s 5ms/step - loss: 0.0085 - accuracy: 1.0000 - val_loss: 0.4115 - val_accuracy: 0.9000\n",
      "Epoch 100/100\n",
      "6/6 [==============================] - 0s 4ms/step - loss: 0.0082 - accuracy: 1.0000 - val_loss: 0.4154 - val_accuracy: 0.9000\n"
     ]
    },
    {
     "data": {
      "text/plain": [
       "<tensorflow.python.keras.callbacks.History at 0x7f61140e1d30>"
      ]
     },
     "execution_count": 62,
     "metadata": {
      "tags": []
     },
     "output_type": "execute_result"
    }
   ],
   "source": [
    "model.fit(x=allx_train,y=y_train,epochs=100,validation_data=(allx_test,y_test),verbose=1,callbacks=[check_point])"
   ]
  },
  {
   "cell_type": "code",
   "execution_count": 63,
   "metadata": {
    "colab": {
     "base_uri": "https://localhost:8080/",
     "height": 283
    },
    "id": "lDM43Jx6Mh9b",
    "outputId": "3c48d527-058c-4840-d4d9-b129ebf7f296"
   },
   "outputs": [
    {
     "data": {
      "text/plain": [
       "<matplotlib.legend.Legend at 0x7f61140edb38>"
      ]
     },
     "execution_count": 63,
     "metadata": {
      "tags": []
     },
     "output_type": "execute_result"
    },
    {
     "data": {
      "image/png": "[encoded data removed]",
      "text/plain": [
       "<Figure size 432x288 with 1 Axes>"
      ]
     },
     "metadata": {
      "needs_background": "light",
      "tags": []
     },
     "output_type": "display_data"
    }
   ],
   "source": [
    "model_loss = pd.DataFrame(model.history.history)\n",
    "model_loss['loss'].plot()\n",
    "model_loss['val_loss'].plot()\n",
    "plt.legend()\n"
   ]
  },
  {
   "cell_type": "code",
   "execution_count": 64,
   "metadata": {
    "colab": {
     "base_uri": "https://localhost:8080/"
    },
    "id": "_RZzhTuHMh9d",
    "outputId": "74de0164-c89f-45e5-81bf-b325a157777b"
   },
   "outputs": [
    {
     "name": "stdout",
     "output_type": "stream",
     "text": [
      "WARNING:tensorflow:From <ipython-input-64-c70fe5481327>:1: Sequential.predict_classes (from tensorflow.python.keras.engine.sequential) is deprecated and will be removed after 2021-01-01.\n",
      "Instructions for updating:\n",
      "Please use instead:* `np.argmax(model.predict(x), axis=-1)`,   if your model does multi-class classification   (e.g. if it uses a `softmax` last-layer activation).* `(model.predict(x) > 0.5).astype(\"int32\")`,   if your model does binary classification   (e.g. if it uses a `sigmoid` last-layer activation).\n"
     ]
    }
   ],
   "source": [
    "predictions = model.predict_classes(allx_test)"
   ]
  },
  {
   "cell_type": "markdown",
   "metadata": {
    "id": "wDNCQnzkMh9e"
   },
   "source": [
    "# Model Evaluation"
   ]
  },
  {
   "cell_type": "code",
   "execution_count": 65,
   "metadata": {
    "id": "bzb2sXRcMh9f"
   },
   "outputs": [],
   "source": [
    "from sklearn.metrics import classification_report, confusion_matrix\n",
    "from sklearn.metrics import accuracy_score"
   ]
  },
  {
   "cell_type": "code",
   "execution_count": 66,
   "metadata": {
    "id": "E6Le-1dhMh9g"
   },
   "outputs": [],
   "source": [
    "accuracy = accuracy_score(y_test,predictions)"
   ]
  },
  {
   "cell_type": "code",
   "execution_count": 67,
   "metadata": {
    "colab": {
     "base_uri": "https://localhost:8080/"
    },
    "id": "40qMt0nYMh9j",
    "outputId": "7d3f2f05-efed-459c-a676-b598456d9dd6"
   },
   "outputs": [
    {
     "name": "stdout",
     "output_type": "stream",
     "text": [
      "0.9\n"
     ]
    }
   ],
   "source": [
    "print(accuracy)"
   ]
  },
  {
   "cell_type": "code",
   "execution_count": 68,
   "metadata": {
    "colab": {
     "base_uri": "https://localhost:8080/"
    },
    "id": "AGTnNsWcMh9k",
    "outputId": "406e728f-cae0-4c2d-c5f0-90907ed5736e"
   },
   "outputs": [
    {
     "name": "stdout",
     "output_type": "stream",
     "text": [
      "              precision    recall  f1-score   support\n",
      "\n",
      "           0       0.92      0.96      0.94        25\n",
      "           1       0.75      0.60      0.67         5\n",
      "\n",
      "    accuracy                           0.90        30\n",
      "   macro avg       0.84      0.78      0.80        30\n",
      "weighted avg       0.89      0.90      0.90        30\n",
      "\n"
     ]
    }
   ],
   "source": [
    "print(classification_report(y_test,predictions))"
   ]
  },
  {
   "cell_type": "code",
   "execution_count": 69,
   "metadata": {
    "colab": {
     "base_uri": "https://localhost:8080/"
    },
    "id": "PKtIuNz6Mh9l",
    "outputId": "05110fde-e532-4118-ab52-9fa9bf1dfc05"
   },
   "outputs": [
    {
     "name": "stdout",
     "output_type": "stream",
     "text": [
      "[[24  1]\n",
      " [ 2  3]]\n"
     ]
    }
   ],
   "source": [
    "print(confusion_matrix(y_test,predictions))"
   ]
  },
  {
   "cell_type": "markdown",
   "metadata": {},
   "source": [
    "The model's accuracy is quite good, but there is an unbalanced class problem in this dataset.\n",
    "\n",
    "In the use case application, clinicians want to know the patients' survival chances to choose a proper treatment plan; in this case, the recall of 0 is good(0.96)."
   ]
  }
 ],
 "metadata": {
  "colab": {
   "name": "cancer prediction model -Git.ipynb",
   "provenance": [],
   "toc_visible": true
  },
  "kernelspec": {
   "display_name": "Python 3",
   "language": "python",
   "name": "python3"
  },
  "language_info": {
   "codemirror_mode": {
    "name": "ipython",
    "version": 3
   },
   "file_extension": ".py",
   "mimetype": "text/x-python",
   "name": "python",
   "nbconvert_exporter": "python",
   "pygments_lexer": "ipython3",
   "version": "3.7.7"
  }
 },
 "nbformat": 4,
 "nbformat_minor": 1
}
